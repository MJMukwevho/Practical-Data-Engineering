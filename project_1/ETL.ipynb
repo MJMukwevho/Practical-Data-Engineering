{
 "cells": [
  {
   "cell_type": "markdown",
   "id": "5725ca8c",
   "metadata": {},
   "source": [
    "# Simple ETL Application\n",
    "\n",
    "In this notebook, we connect to an api, extract data, create a spark dataframe and then finally write to a postgres database. "
   ]
  },
  {
   "cell_type": "code",
   "execution_count": 1,
   "id": "ba3536b9-7141-43b6-a70a-6343fc2cb424",
   "metadata": {},
   "outputs": [],
   "source": [
    "import requests\n",
    "import json\n",
    "import pandas as pd\n",
    "import psycopg2\n",
    "from dags.src.sql_base import sql_base\n",
    "from dags.src.fetch_data import create_dataframe\n",
    "from dags.src.get_data import get_data"
   ]
  },
  {
   "cell_type": "markdown",
   "id": "d594416e-0214-4562-97d8-2641454f8214",
   "metadata": {},
   "source": [
    "# Get Data"
   ]
  },
  {
   "cell_type": "code",
   "execution_count": 2,
   "id": "c66d0ec4-9c91-4414-a36a-9cb130a40582",
   "metadata": {},
   "outputs": [],
   "source": [
    "_,record = get_data()"
   ]
  },
  {
   "cell_type": "code",
   "execution_count": 3,
   "id": "db1d23a7-c953-40eb-bedb-b78d9ecd699e",
   "metadata": {},
   "outputs": [
    {
     "data": {
      "text/plain": [
       "{'gender': 'male',\n",
       " 'name': {'title': 'Mr', 'first': 'Marvin', 'last': 'Howard'},\n",
       " 'location': {'street': {'number': 1571, 'name': 'Galway Road'},\n",
       "  'city': 'Monaghan',\n",
       "  'state': 'Limerick',\n",
       "  'country': 'Ireland',\n",
       "  'postcode': 75833,\n",
       "  'coordinates': {'latitude': '-3.3901', 'longitude': '-63.7871'},\n",
       "  'timezone': {'offset': '-1:00',\n",
       "   'description': 'Azores, Cape Verde Islands'}},\n",
       " 'email': 'marvin.howard@example.com',\n",
       " 'login': {'uuid': 'a6622a8b-2238-4b63-ae8a-62eb2e466bab',\n",
       "  'username': 'lazymouse481',\n",
       "  'password': 'todd',\n",
       "  'salt': 'jjoHTAoi',\n",
       "  'md5': '832e8f143320d62814bff3ace2ac6ab3',\n",
       "  'sha1': '49e0b2e267058f9b119ce2f951daee713e9453fa',\n",
       "  'sha256': '6d7193865f389f6d48ad365b695cd2a3722b75adae9314911c036851cd7f783c'},\n",
       " 'dob': {'date': '1954-02-22T21:41:26.875Z', 'age': 70},\n",
       " 'registered': {'date': '2020-09-26T09:47:15.683Z', 'age': 3},\n",
       " 'phone': '021-924-4767',\n",
       " 'cell': '081-510-6361',\n",
       " 'id': {'name': 'PPS', 'value': '0333461T'},\n",
       " 'picture': {'large': 'https://randomuser.me/api/portraits/men/74.jpg',\n",
       "  'medium': 'https://randomuser.me/api/portraits/med/men/74.jpg',\n",
       "  'thumbnail': 'https://randomuser.me/api/portraits/thumb/men/74.jpg'},\n",
       " 'nat': 'IE'}"
      ]
     },
     "execution_count": 3,
     "metadata": {},
     "output_type": "execute_result"
    }
   ],
   "source": [
    "record"
   ]
  },
  {
   "cell_type": "code",
   "execution_count": 4,
   "id": "f4ebbd76-efb2-4e52-b62a-d4838bf1f7ff",
   "metadata": {},
   "outputs": [],
   "source": [
    "db = sql_base()"
   ]
  },
  {
   "cell_type": "code",
   "execution_count": 5,
   "id": "69bc34ed-f3f3-4b1d-b9be-1f5af94c1b78",
   "metadata": {},
   "outputs": [
    {
     "data": {
      "text/plain": [
       "'INSERT INTO users.people(name,surname,title,gender,country,city,coordinates) VALUES(\\'Marvin\\', \\'Howard\\', \\'Mr\\', \\'male\\', \\'Ireland\\', \\'Monaghan\\', \\'{\"latitude\": \"-3.3901\", \"longitude\": \"-63.7871\"}\\')'"
      ]
     },
     "execution_count": 5,
     "metadata": {},
     "output_type": "execute_result"
    }
   ],
   "source": [
    "db.write_record_to_table(record)"
   ]
  },
  {
   "cell_type": "code",
   "execution_count": 7,
   "id": "8b5cab73-b396-4c06-8c82-5a7a8548cee8",
   "metadata": {},
   "outputs": [
    {
     "data": {
      "text/plain": [
       "(200,\n",
       " {'gender': 'male',\n",
       "  'name': {'title': 'Monsieur', 'first': 'Jean-Daniel', 'last': 'Robin'},\n",
       "  'location': {'street': {'number': 6703, 'name': 'Quai Charles-De-Gaulle'},\n",
       "   'city': 'Bellmund',\n",
       "   'state': 'Genève',\n",
       "   'country': 'Switzerland',\n",
       "   'postcode': 3978,\n",
       "   'coordinates': {'latitude': '-59.9145', 'longitude': '-154.9542'},\n",
       "   'timezone': {'offset': '-5:00',\n",
       "    'description': 'Eastern Time (US & Canada), Bogota, Lima'}},\n",
       "  'email': 'jean-daniel.robin@example.com',\n",
       "  'login': {'uuid': '7e4a514c-3a35-41a6-ab86-eb8d5f96e0bf',\n",
       "   'username': 'lazygorilla909',\n",
       "   'password': 'qaz123',\n",
       "   'salt': 'pOouhOAN',\n",
       "   'md5': 'd7785bc804aa909767b713e019a95129',\n",
       "   'sha1': 'dcff01ee054a8ac03c620e637f97398bc87768c7',\n",
       "   'sha256': 'e4b6dc780cb5745064f248911c57a694d4853aa3545fd435e56a14d753c07d8a'},\n",
       "  'dob': {'date': '1984-05-21T02:32:38.364Z', 'age': 39},\n",
       "  'registered': {'date': '2012-06-08T12:11:06.298Z', 'age': 11},\n",
       "  'phone': '079 539 07 97',\n",
       "  'cell': '076 917 02 80',\n",
       "  'id': {'name': 'AVS', 'value': '756.5554.1281.82'},\n",
       "  'picture': {'large': 'https://randomuser.me/api/portraits/men/81.jpg',\n",
       "   'medium': 'https://randomuser.me/api/portraits/med/men/81.jpg',\n",
       "   'thumbnail': 'https://randomuser.me/api/portraits/thumb/men/81.jpg'},\n",
       "  'nat': 'CH'})"
      ]
     },
     "execution_count": 7,
     "metadata": {},
     "output_type": "execute_result"
    }
   ],
   "source": [
    "record"
   ]
  },
  {
   "cell_type": "code",
   "execution_count": 6,
   "id": "891aa275-2d57-4302-9af3-ae2398c37106",
   "metadata": {},
   "outputs": [],
   "source": [
    "statement = \"insert into users.people (name) values ('mukovhe')\""
   ]
  },
  {
   "cell_type": "code",
   "execution_count": 7,
   "id": "82e2959a-a0b7-413b-ab30-dea1090628e1",
   "metadata": {},
   "outputs": [],
   "source": [
    "db.sql_runner(statement)"
   ]
  },
  {
   "cell_type": "code",
   "execution_count": null,
   "id": "634280dd-7b6a-49e4-bb14-6e5c0888c7a6",
   "metadata": {},
   "outputs": [],
   "source": []
  }
 ],
 "metadata": {
  "kernelspec": {
   "display_name": "Python 3 (ipykernel)",
   "language": "python",
   "name": "python3"
  },
  "language_info": {
   "codemirror_mode": {
    "name": "ipython",
    "version": 3
   },
   "file_extension": ".py",
   "mimetype": "text/x-python",
   "name": "python",
   "nbconvert_exporter": "python",
   "pygments_lexer": "ipython3",
   "version": "3.11.9"
  }
 },
 "nbformat": 4,
 "nbformat_minor": 5
}
