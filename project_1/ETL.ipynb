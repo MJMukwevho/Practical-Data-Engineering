{
 "cells": [
  {
   "cell_type": "markdown",
   "id": "5725ca8c",
   "metadata": {},
   "source": [
    "# Simple ETL Application\n",
    "\n",
    "In this notebook, we connect to an api, extract data, create a spark dataframe and then finally write to a postgres database. "
   ]
  },
  {
   "cell_type": "code",
   "execution_count": 1,
   "id": "ba3536b9-7141-43b6-a70a-6343fc2cb424",
   "metadata": {},
   "outputs": [],
   "source": [
    "import requests\n",
    "import json\n",
    "import pandas as pd\n",
    "import psycopg2\n",
    "from src.get_data import get_data\n",
    "from src.sql_base import sql_base"
   ]
  },
  {
   "cell_type": "markdown",
   "id": "7dfd2f88",
   "metadata": {},
   "source": [
    "## Prepare database"
   ]
  },
  {
   "cell_type": "code",
   "execution_count": 5,
   "id": "bfd19368-1615-40ee-a11d-62b31e7548e7",
   "metadata": {},
   "outputs": [],
   "source": [
    "db = sql_base()"
   ]
  },
  {
   "cell_type": "code",
   "execution_count": 8,
   "id": "7748cd7a-b675-4adf-b9ce-30117d7339ed",
   "metadata": {},
   "outputs": [],
   "source": [
    "db.create_schema(schema_name=\"test_table\")"
   ]
  },
  {
   "cell_type": "code",
   "execution_count": 7,
   "id": "80c4c74d-643e-4e4a-8f4f-e2869fb3596e",
   "metadata": {},
   "outputs": [],
   "source": [
    "db.create_table(table_name=\"test\",table_definitions=\"name text, surname text,age numeric(2)\")"
   ]
  },
  {
   "cell_type": "markdown",
   "id": "3224263e-a8bd-42a1-b46b-983f541abbd1",
   "metadata": {},
   "source": [
    "## Create table in postgres Database using psycopg2 library"
   ]
  },
  {
   "cell_type": "code",
   "execution_count": 8,
   "id": "5cba84e6-06d6-478c-a9b5-ce2ccc24d247",
   "metadata": {},
   "outputs": [],
   "source": [
    "query = \"\"\"CREATE TABLE test_table (\n",
    "    id INTEGER PRIMARY KEY,\n",
    "    name TEXT,\n",
    "    age INTEGER,\n",
    "    email TEXT UNIQUE\n",
    ")\"\"\"\n",
    "\n",
    "#query = f\"CREATE SCHEMA IF NOT EXISTS TEST\""
   ]
  },
  {
   "cell_type": "code",
   "execution_count": 9,
   "id": "b8a57938",
   "metadata": {},
   "outputs": [
    {
     "ename": "DuplicateTable",
     "evalue": "relation \"test_table\" already exists\n",
     "output_type": "error",
     "traceback": [
      "\u001b[0;31m---------------------------------------------------------------------------\u001b[0m",
      "\u001b[0;31mDuplicateTable\u001b[0m                            Traceback (most recent call last)",
      "Cell \u001b[0;32mIn[9], line 20\u001b[0m\n\u001b[1;32m     18\u001b[0m cursor \u001b[38;5;241m=\u001b[39m conn_details\u001b[38;5;241m.\u001b[39mcursor()\n\u001b[1;32m     19\u001b[0m query \u001b[38;5;241m=\u001b[39m query\n\u001b[0;32m---> 20\u001b[0m \u001b[43mcursor\u001b[49m\u001b[38;5;241;43m.\u001b[39;49m\u001b[43mexecute\u001b[49m\u001b[43m(\u001b[49m\u001b[43mquery\u001b[49m\u001b[43m)\u001b[49m\n",
      "\u001b[0;31mDuplicateTable\u001b[0m: relation \"test_table\" already exists\n"
     ]
    }
   ],
   "source": [
    "# url\n",
    "url = \"http://postgres-db:45432/postgres_db\"\n",
    "#user\n",
    "username = \"postgres\"\n",
    "password = \"postgres\"\n",
    "\n",
    "conn_details = psycopg2.connect(\n",
    "    host='postgres-db',\n",
    "    database=\"postgres\",\n",
    "    user=username,\n",
    "    # secretlint-disable\n",
    "    password=password,\n",
    "    # secretlint-enable\n",
    "    port='5432'\n",
    ")\n",
    "\n",
    "with conn_details:\n",
    "    cursor = conn_details.cursor()\n",
    "    query = query\n",
    "    cursor.execute(query)"
   ]
  },
  {
   "cell_type": "code",
   "execution_count": 12,
   "id": "c3dd999f-9372-42f5-a6a3-c693ac7daae1",
   "metadata": {},
   "outputs": [],
   "source": [
    "query = \"\"\"(select * from test_table)\"\"\""
   ]
  },
  {
   "cell_type": "code",
   "execution_count": 14,
   "id": "f3f5ec4c-2e0e-4788-ae8d-6453f0242ac3",
   "metadata": {},
   "outputs": [
    {
     "name": "stdout",
     "output_type": "stream",
     "text": [
      "None\n"
     ]
    }
   ],
   "source": [
    "print(query_runner(query))"
   ]
  },
  {
   "cell_type": "markdown",
   "id": "df5c67ce",
   "metadata": {},
   "source": [
    "## Insert Records"
   ]
  },
  {
   "cell_type": "markdown",
   "id": "d3ae4c78",
   "metadata": {},
   "source": [
    "## Create a spark Session"
   ]
  },
  {
   "cell_type": "code",
   "execution_count": 39,
   "id": "b48f164c-ec28-4b6f-8c44-13e96d0681bc",
   "metadata": {},
   "outputs": [
    {
     "name": "stderr",
     "output_type": "stream",
     "text": [
      "Setting default log level to \"WARN\".\n",
      "To adjust logging level use sc.setLogLevel(newLevel). For SparkR, use setLogLevel(newLevel).\n",
      "24/04/11 21:19:15 WARN NativeCodeLoader: Unable to load native-hadoop library for your platform... using builtin-java classes where applicable\n"
     ]
    }
   ],
   "source": [
    "from pyspark.sql import SparkSession\n",
    "\n",
    "spark = SparkSession.builder \\\n",
    "    .appName(\"YourAppName\") \\\n",
    "    .config(\"spark.driver.extraClassPath\", \"postgresql-connector-java.jar\") \\\n",
    "    .config(\"spark.executor.extraClassPath\", \"postgresql-connector-java.jar\") \\\n",
    "    .getOrCreate()"
   ]
  },
  {
   "cell_type": "markdown",
   "id": "b8e5d41b-38ff-43aa-a120-c6ee5f2b8d3e",
   "metadata": {},
   "source": [
    "## Create Spark dataframe"
   ]
  },
  {
   "cell_type": "code",
   "execution_count": 40,
   "id": "f12d6787-2ca3-4b24-8dd9-9a76e25eb90e",
   "metadata": {},
   "outputs": [],
   "source": [
    "spark_df = spark.createDataFrame(data)"
   ]
  },
  {
   "cell_type": "markdown",
   "id": "156896b9-f3e0-458d-b91a-16da418d60ee",
   "metadata": {},
   "source": [
    "## Test Functions "
   ]
  },
  {
   "cell_type": "code",
   "execution_count": 43,
   "id": "640ad6c2-8cfc-4b1f-97f7-d50093c647f5",
   "metadata": {},
   "outputs": [],
   "source": [
    "import pytest\n",
    "\n",
    "def test_test_data():\n",
    "    \"\"\"\n",
    "    Tests API is returning values\n",
    "    \"\"\"\n",
    "    status_code,_ = get_data()\n",
    "    \n",
    "    assert status_code == 200\n",
    "\n"
   ]
  },
  {
   "cell_type": "code",
   "execution_count": 53,
   "id": "a69f3294-f071-4700-9efc-2683e1b0fb0f",
   "metadata": {},
   "outputs": [
    {
     "name": "stdout",
     "output_type": "stream",
     "text": [
      "\u001b[1m============================= test session starts ==============================\u001b[0m\n",
      "platform linux -- Python 3.11.9, pytest-8.1.1, pluggy-1.4.0\n",
      "rootdir: /app\n",
      "plugins: anyio-4.3.0\n",
      "collected 1 item                                                               \u001b[0m\n",
      "\n",
      "tests/test_get_data.py \u001b[32m.\u001b[0m\u001b[32m                                                 [100%]\u001b[0m\n",
      "\n",
      "\u001b[32m============================== \u001b[32m\u001b[1m1 passed\u001b[0m\u001b[32m in 1.34s\u001b[0m\u001b[32m ===============================\u001b[0m\n"
     ]
    }
   ],
   "source": [
    "! pytest"
   ]
  },
  {
   "cell_type": "code",
   "execution_count": 20,
   "id": "606fdd81-1a9a-484c-9021-3668257f0e67",
   "metadata": {},
   "outputs": [],
   "source": [
    "names = {'1':\"mukovhe\"}\n",
    "         "
   ]
  },
  {
   "cell_type": "code",
   "execution_count": 21,
   "id": "e7125642-84a5-48d1-996c-b256722d8b34",
   "metadata": {},
   "outputs": [
    {
     "name": "stdout",
     "output_type": "stream",
     "text": [
      "1\n"
     ]
    }
   ],
   "source": [
    "for i in names:\n",
    "    print(i)"
   ]
  },
  {
   "cell_type": "code",
   "execution_count": 22,
   "id": "e141e9fd-1d6f-4779-b56c-839b716bbbcc",
   "metadata": {},
   "outputs": [
    {
     "data": {
      "text/plain": [
       "'mukovhe'"
      ]
     },
     "execution_count": 22,
     "metadata": {},
     "output_type": "execute_result"
    }
   ],
   "source": [
    "names['1']"
   ]
  },
  {
   "cell_type": "code",
   "execution_count": null,
   "id": "cf0c880e-9671-44e9-a963-04b981127a1c",
   "metadata": {},
   "outputs": [],
   "source": []
  }
 ],
 "metadata": {
  "kernelspec": {
   "display_name": "Python 3 (ipykernel)",
   "language": "python",
   "name": "python3"
  },
  "language_info": {
   "codemirror_mode": {
    "name": "ipython",
    "version": 3
   },
   "file_extension": ".py",
   "mimetype": "text/x-python",
   "name": "python",
   "nbconvert_exporter": "python",
   "pygments_lexer": "ipython3",
   "version": "3.11.9"
  }
 },
 "nbformat": 4,
 "nbformat_minor": 5
}
