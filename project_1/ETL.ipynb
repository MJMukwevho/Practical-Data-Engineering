{
 "cells": [
  {
   "cell_type": "markdown",
   "id": "5725ca8c",
   "metadata": {},
   "source": [
    "# Simple ETL Application\n",
    "\n",
    "In this notebook, we connect to an api, extract data, create a spark dataframe and then finally write to a postgres database. "
   ]
  },
  {
   "cell_type": "code",
   "execution_count": 2,
   "id": "ba3536b9-7141-43b6-a70a-6343fc2cb424",
   "metadata": {},
   "outputs": [],
   "source": [
    "import requests\n",
    "import json\n",
    "import pandas as pd\n",
    "import psycopg2\n",
    "from src.get_data import get_data"
   ]
  },
  {
   "cell_type": "markdown",
   "id": "7dfd2f88",
   "metadata": {},
   "source": [
    "## Get data from Randomuser API"
   ]
  },
  {
   "cell_type": "code",
   "execution_count": 4,
   "id": "bcc0a068-db81-4386-ae2a-b601e364f584",
   "metadata": {},
   "outputs": [],
   "source": [
    "def get_data():\n",
    "    \"\"\"\n",
    "    get data from random user api\n",
    "    \"\"\"\n",
    "    try:\n",
    "        url = \"https://randomuser.me/api/\"\n",
    "        response = requests.get(url)\n",
    "        status_code = response.status_code\n",
    "        response = json.loads(response.text)\n",
    "        return status_code,response['results'][0]\n",
    "    except Exception as e:\n",
    "        print(f\"there was an error{e}\")\n",
    "        return None"
   ]
  },
  {
   "cell_type": "markdown",
   "id": "c14af24d",
   "metadata": {},
   "source": [
    "## Create dataframe"
   ]
  },
  {
   "cell_type": "code",
   "execution_count": 10,
   "id": "bfa93ca1-ca71-479a-b582-52656ec8ea0c",
   "metadata": {},
   "outputs": [],
   "source": [
    "people_list = []\n",
    "\n",
    "for _ in range(5):\n",
    "    _,data = get_data()\n",
    "    people_list.append(data)\n",
    "\n",
    "data = pd.DataFrame(people_list,index=None)"
   ]
  },
  {
   "cell_type": "code",
   "execution_count": 11,
   "id": "789fad65-a22f-42e6-b0f3-ef6fe281fa0b",
   "metadata": {},
   "outputs": [
    {
     "data": {
      "text/html": [
       "<div>\n",
       "<style scoped>\n",
       "    .dataframe tbody tr th:only-of-type {\n",
       "        vertical-align: middle;\n",
       "    }\n",
       "\n",
       "    .dataframe tbody tr th {\n",
       "        vertical-align: top;\n",
       "    }\n",
       "\n",
       "    .dataframe thead th {\n",
       "        text-align: right;\n",
       "    }\n",
       "</style>\n",
       "<table border=\"1\" class=\"dataframe\">\n",
       "  <thead>\n",
       "    <tr style=\"text-align: right;\">\n",
       "      <th></th>\n",
       "      <th>gender</th>\n",
       "      <th>name</th>\n",
       "      <th>location</th>\n",
       "      <th>email</th>\n",
       "      <th>login</th>\n",
       "      <th>dob</th>\n",
       "      <th>registered</th>\n",
       "      <th>phone</th>\n",
       "      <th>cell</th>\n",
       "      <th>id</th>\n",
       "      <th>picture</th>\n",
       "      <th>nat</th>\n",
       "    </tr>\n",
       "  </thead>\n",
       "  <tbody>\n",
       "    <tr>\n",
       "      <th>0</th>\n",
       "      <td>female</td>\n",
       "      <td>{'title': 'Miss', 'first': 'Mayla', 'last': 'L...</td>\n",
       "      <td>{'street': {'number': 4020, 'name': 'Heidereed...</td>\n",
       "      <td>mayla.liemburg@example.com</td>\n",
       "      <td>{'uuid': 'a6076a89-293d-4352-9c76-d6664f3cbda4...</td>\n",
       "      <td>{'date': '1966-01-24T15:24:22.377Z', 'age': 58}</td>\n",
       "      <td>{'date': '2010-11-28T22:46:07.877Z', 'age': 13}</td>\n",
       "      <td>(091) 7686296</td>\n",
       "      <td>(06) 50546414</td>\n",
       "      <td>{'name': 'BSN', 'value': '93561213'}</td>\n",
       "      <td>{'large': 'https://randomuser.me/api/portraits...</td>\n",
       "      <td>NL</td>\n",
       "    </tr>\n",
       "    <tr>\n",
       "      <th>1</th>\n",
       "      <td>female</td>\n",
       "      <td>{'title': 'Miss', 'first': 'Jennie', 'last': '...</td>\n",
       "      <td>{'street': {'number': 7636, 'name': 'Thornridg...</td>\n",
       "      <td>jennie.sutton@example.com</td>\n",
       "      <td>{'uuid': '7e33cdb1-1985-4dc7-b766-5e108ac0a94d...</td>\n",
       "      <td>{'date': '1951-04-13T15:46:01.575Z', 'age': 73}</td>\n",
       "      <td>{'date': '2003-01-17T18:13:29.755Z', 'age': 21}</td>\n",
       "      <td>(770) 752-8143</td>\n",
       "      <td>(375) 570-8418</td>\n",
       "      <td>{'name': 'SSN', 'value': '072-98-3114'}</td>\n",
       "      <td>{'large': 'https://randomuser.me/api/portraits...</td>\n",
       "      <td>US</td>\n",
       "    </tr>\n",
       "    <tr>\n",
       "      <th>2</th>\n",
       "      <td>male</td>\n",
       "      <td>{'title': 'Mr', 'first': 'Gaëtan', 'last': 'Ar...</td>\n",
       "      <td>{'street': {'number': 3766, 'name': 'Rue Laure...</td>\n",
       "      <td>gaetan.arnaud@example.com</td>\n",
       "      <td>{'uuid': '50c6e6be-1a64-4995-9ef6-931101f6165e...</td>\n",
       "      <td>{'date': '1956-03-03T06:45:28.243Z', 'age': 68}</td>\n",
       "      <td>{'date': '2004-02-22T05:32:16.220Z', 'age': 20}</td>\n",
       "      <td>01-09-30-43-99</td>\n",
       "      <td>06-36-01-83-55</td>\n",
       "      <td>{'name': 'INSEE', 'value': '1560263081013 78'}</td>\n",
       "      <td>{'large': 'https://randomuser.me/api/portraits...</td>\n",
       "      <td>FR</td>\n",
       "    </tr>\n",
       "    <tr>\n",
       "      <th>3</th>\n",
       "      <td>male</td>\n",
       "      <td>{'title': 'Mr', 'first': 'سورنا', 'last': 'علی...</td>\n",
       "      <td>{'street': {'number': 5189, 'name': 'میدان توح...</td>\n",
       "      <td>swrn.aalyzdh@example.com</td>\n",
       "      <td>{'uuid': '7748b26c-0c82-49b3-af91-281e4cd718c7...</td>\n",
       "      <td>{'date': '1974-07-10T09:28:56.300Z', 'age': 49}</td>\n",
       "      <td>{'date': '2003-12-03T06:44:21.367Z', 'age': 20}</td>\n",
       "      <td>027-84057482</td>\n",
       "      <td>0954-716-0147</td>\n",
       "      <td>{'name': '', 'value': None}</td>\n",
       "      <td>{'large': 'https://randomuser.me/api/portraits...</td>\n",
       "      <td>IR</td>\n",
       "    </tr>\n",
       "    <tr>\n",
       "      <th>4</th>\n",
       "      <td>female</td>\n",
       "      <td>{'title': 'Mrs', 'first': 'ستایش', 'last': 'سا...</td>\n",
       "      <td>{'street': {'number': 9094, 'name': 'دکتر مفتح...</td>\n",
       "      <td>stysh.slry@example.com</td>\n",
       "      <td>{'uuid': '748be4ff-1274-4e8e-aed3-269d41c4fdc9...</td>\n",
       "      <td>{'date': '1980-01-02T13:38:15.523Z', 'age': 44}</td>\n",
       "      <td>{'date': '2019-09-26T19:51:34.228Z', 'age': 4}</td>\n",
       "      <td>017-29875773</td>\n",
       "      <td>0935-148-9601</td>\n",
       "      <td>{'name': '', 'value': None}</td>\n",
       "      <td>{'large': 'https://randomuser.me/api/portraits...</td>\n",
       "      <td>IR</td>\n",
       "    </tr>\n",
       "  </tbody>\n",
       "</table>\n",
       "</div>"
      ],
      "text/plain": [
       "   gender                                               name  \\\n",
       "0  female  {'title': 'Miss', 'first': 'Mayla', 'last': 'L...   \n",
       "1  female  {'title': 'Miss', 'first': 'Jennie', 'last': '...   \n",
       "2    male  {'title': 'Mr', 'first': 'Gaëtan', 'last': 'Ar...   \n",
       "3    male  {'title': 'Mr', 'first': 'سورنا', 'last': 'علی...   \n",
       "4  female  {'title': 'Mrs', 'first': 'ستایش', 'last': 'سا...   \n",
       "\n",
       "                                            location  \\\n",
       "0  {'street': {'number': 4020, 'name': 'Heidereed...   \n",
       "1  {'street': {'number': 7636, 'name': 'Thornridg...   \n",
       "2  {'street': {'number': 3766, 'name': 'Rue Laure...   \n",
       "3  {'street': {'number': 5189, 'name': 'میدان توح...   \n",
       "4  {'street': {'number': 9094, 'name': 'دکتر مفتح...   \n",
       "\n",
       "                        email  \\\n",
       "0  mayla.liemburg@example.com   \n",
       "1   jennie.sutton@example.com   \n",
       "2   gaetan.arnaud@example.com   \n",
       "3    swrn.aalyzdh@example.com   \n",
       "4      stysh.slry@example.com   \n",
       "\n",
       "                                               login  \\\n",
       "0  {'uuid': 'a6076a89-293d-4352-9c76-d6664f3cbda4...   \n",
       "1  {'uuid': '7e33cdb1-1985-4dc7-b766-5e108ac0a94d...   \n",
       "2  {'uuid': '50c6e6be-1a64-4995-9ef6-931101f6165e...   \n",
       "3  {'uuid': '7748b26c-0c82-49b3-af91-281e4cd718c7...   \n",
       "4  {'uuid': '748be4ff-1274-4e8e-aed3-269d41c4fdc9...   \n",
       "\n",
       "                                               dob  \\\n",
       "0  {'date': '1966-01-24T15:24:22.377Z', 'age': 58}   \n",
       "1  {'date': '1951-04-13T15:46:01.575Z', 'age': 73}   \n",
       "2  {'date': '1956-03-03T06:45:28.243Z', 'age': 68}   \n",
       "3  {'date': '1974-07-10T09:28:56.300Z', 'age': 49}   \n",
       "4  {'date': '1980-01-02T13:38:15.523Z', 'age': 44}   \n",
       "\n",
       "                                        registered           phone  \\\n",
       "0  {'date': '2010-11-28T22:46:07.877Z', 'age': 13}   (091) 7686296   \n",
       "1  {'date': '2003-01-17T18:13:29.755Z', 'age': 21}  (770) 752-8143   \n",
       "2  {'date': '2004-02-22T05:32:16.220Z', 'age': 20}  01-09-30-43-99   \n",
       "3  {'date': '2003-12-03T06:44:21.367Z', 'age': 20}    027-84057482   \n",
       "4   {'date': '2019-09-26T19:51:34.228Z', 'age': 4}    017-29875773   \n",
       "\n",
       "             cell                                              id  \\\n",
       "0   (06) 50546414            {'name': 'BSN', 'value': '93561213'}   \n",
       "1  (375) 570-8418         {'name': 'SSN', 'value': '072-98-3114'}   \n",
       "2  06-36-01-83-55  {'name': 'INSEE', 'value': '1560263081013 78'}   \n",
       "3   0954-716-0147                     {'name': '', 'value': None}   \n",
       "4   0935-148-9601                     {'name': '', 'value': None}   \n",
       "\n",
       "                                             picture nat  \n",
       "0  {'large': 'https://randomuser.me/api/portraits...  NL  \n",
       "1  {'large': 'https://randomuser.me/api/portraits...  US  \n",
       "2  {'large': 'https://randomuser.me/api/portraits...  FR  \n",
       "3  {'large': 'https://randomuser.me/api/portraits...  IR  \n",
       "4  {'large': 'https://randomuser.me/api/portraits...  IR  "
      ]
     },
     "execution_count": 11,
     "metadata": {},
     "output_type": "execute_result"
    }
   ],
   "source": [
    "data"
   ]
  },
  {
   "cell_type": "code",
   "execution_count": null,
   "id": "bfd19368-1615-40ee-a11d-62b31e7548e7",
   "metadata": {},
   "outputs": [],
   "source": []
  },
  {
   "cell_type": "markdown",
   "id": "3224263e-a8bd-42a1-b46b-983f541abbd1",
   "metadata": {},
   "source": [
    "## Create table in postgres Database using psycopg2 library"
   ]
  },
  {
   "cell_type": "code",
   "execution_count": 37,
   "id": "5cba84e6-06d6-478c-a9b5-ce2ccc24d247",
   "metadata": {},
   "outputs": [],
   "source": [
    "query = \"\"\"CREATE TABLE test_table (\n",
    "    id INTEGER PRIMARY KEY,\n",
    "    name TEXT,\n",
    "    age INTEGER,\n",
    "    email TEXT UNIQUE\n",
    ")\"\"\""
   ]
  },
  {
   "cell_type": "code",
   "execution_count": 38,
   "id": "b8a57938",
   "metadata": {},
   "outputs": [
    {
     "ename": "DuplicateTable",
     "evalue": "relation \"test_table\" already exists\n",
     "output_type": "error",
     "traceback": [
      "\u001b[0;31m---------------------------------------------------------------------------\u001b[0m",
      "\u001b[0;31mDuplicateTable\u001b[0m                            Traceback (most recent call last)",
      "Cell \u001b[0;32mIn[38], line 20\u001b[0m\n\u001b[1;32m     18\u001b[0m cursor \u001b[38;5;241m=\u001b[39m conn_details\u001b[38;5;241m.\u001b[39mcursor()\n\u001b[1;32m     19\u001b[0m query \u001b[38;5;241m=\u001b[39m query\n\u001b[0;32m---> 20\u001b[0m \u001b[43mcursor\u001b[49m\u001b[38;5;241;43m.\u001b[39;49m\u001b[43mexecute\u001b[49m\u001b[43m(\u001b[49m\u001b[43mquery\u001b[49m\u001b[43m)\u001b[49m\n",
      "\u001b[0;31mDuplicateTable\u001b[0m: relation \"test_table\" already exists\n"
     ]
    }
   ],
   "source": [
    "# url\n",
    "url = \"http://postgres-db:45432/postgres_db\"\n",
    "#user\n",
    "username = \"postgres\"\n",
    "password = \"postgres\"\n",
    "\n",
    "conn_details = psycopg2.connect(\n",
    "    host='postgres-db',\n",
    "    database=\"postgres_db\",\n",
    "    user=username,\n",
    "    # secretlint-disable\n",
    "    password=password,\n",
    "    # secretlint-enable\n",
    "    port='5432'\n",
    ")\n",
    "\n",
    "with conn_details:\n",
    "    cursor = conn_details.cursor()\n",
    "    query = query\n",
    "    cursor.execute(query)"
   ]
  },
  {
   "cell_type": "markdown",
   "id": "df5c67ce",
   "metadata": {},
   "source": [
    "## Insert Records"
   ]
  },
  {
   "cell_type": "markdown",
   "id": "d3ae4c78",
   "metadata": {},
   "source": [
    "## Create a spark Session"
   ]
  },
  {
   "cell_type": "code",
   "execution_count": 39,
   "id": "b48f164c-ec28-4b6f-8c44-13e96d0681bc",
   "metadata": {},
   "outputs": [
    {
     "name": "stderr",
     "output_type": "stream",
     "text": [
      "Setting default log level to \"WARN\".\n",
      "To adjust logging level use sc.setLogLevel(newLevel). For SparkR, use setLogLevel(newLevel).\n",
      "24/04/11 21:19:15 WARN NativeCodeLoader: Unable to load native-hadoop library for your platform... using builtin-java classes where applicable\n"
     ]
    }
   ],
   "source": [
    "from pyspark.sql import SparkSession\n",
    "\n",
    "spark = SparkSession.builder \\\n",
    "    .appName(\"YourAppName\") \\\n",
    "    .config(\"spark.driver.extraClassPath\", \"postgresql-connector-java.jar\") \\\n",
    "    .config(\"spark.executor.extraClassPath\", \"postgresql-connector-java.jar\") \\\n",
    "    .getOrCreate()"
   ]
  },
  {
   "cell_type": "markdown",
   "id": "b8e5d41b-38ff-43aa-a120-c6ee5f2b8d3e",
   "metadata": {},
   "source": [
    "## Create Spark dataframe"
   ]
  },
  {
   "cell_type": "code",
   "execution_count": 40,
   "id": "f12d6787-2ca3-4b24-8dd9-9a76e25eb90e",
   "metadata": {},
   "outputs": [],
   "source": [
    "spark_df = spark.createDataFrame(data)"
   ]
  },
  {
   "cell_type": "markdown",
   "id": "156896b9-f3e0-458d-b91a-16da418d60ee",
   "metadata": {},
   "source": [
    "## Test Functions "
   ]
  },
  {
   "cell_type": "code",
   "execution_count": 43,
   "id": "640ad6c2-8cfc-4b1f-97f7-d50093c647f5",
   "metadata": {},
   "outputs": [],
   "source": [
    "import pytest\n",
    "\n",
    "def test_test_data():\n",
    "    \"\"\"\n",
    "    Tests API is returning values\n",
    "    \"\"\"\n",
    "    status_code,_ = get_data()\n",
    "    \n",
    "    assert status_code == 200\n",
    "\n"
   ]
  },
  {
   "cell_type": "code",
   "execution_count": 53,
   "id": "a69f3294-f071-4700-9efc-2683e1b0fb0f",
   "metadata": {},
   "outputs": [
    {
     "name": "stdout",
     "output_type": "stream",
     "text": [
      "\u001b[1m============================= test session starts ==============================\u001b[0m\n",
      "platform linux -- Python 3.11.9, pytest-8.1.1, pluggy-1.4.0\n",
      "rootdir: /app\n",
      "plugins: anyio-4.3.0\n",
      "collected 1 item                                                               \u001b[0m\n",
      "\n",
      "tests/test_get_data.py \u001b[32m.\u001b[0m\u001b[32m                                                 [100%]\u001b[0m\n",
      "\n",
      "\u001b[32m============================== \u001b[32m\u001b[1m1 passed\u001b[0m\u001b[32m in 1.34s\u001b[0m\u001b[32m ===============================\u001b[0m\n"
     ]
    }
   ],
   "source": [
    "! pytest"
   ]
  }
 ],
 "metadata": {
  "kernelspec": {
   "display_name": "Python 3 (ipykernel)",
   "language": "python",
   "name": "python3"
  },
  "language_info": {
   "codemirror_mode": {
    "name": "ipython",
    "version": 3
   },
   "file_extension": ".py",
   "mimetype": "text/x-python",
   "name": "python",
   "nbconvert_exporter": "python",
   "pygments_lexer": "ipython3",
   "version": "3.11.9"
  }
 },
 "nbformat": 4,
 "nbformat_minor": 5
}
