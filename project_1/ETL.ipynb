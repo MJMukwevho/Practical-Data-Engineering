{
 "cells": [
  {
   "cell_type": "code",
   "execution_count": 20,
   "id": "ba3536b9-7141-43b6-a70a-6343fc2cb424",
   "metadata": {},
   "outputs": [],
   "source": [
    "import requests\n",
    "import json\n",
    "import pandas as pd"
   ]
  },
  {
   "cell_type": "code",
   "execution_count": 16,
   "id": "bcc0a068-db81-4386-ae2a-b601e364f584",
   "metadata": {},
   "outputs": [],
   "source": [
    "\n",
    "\n",
    "def get_data():\n",
    "    \"\"\"\n",
    "    get data from random user api\n",
    "    \"\"\"\n",
    "    try:\n",
    "        url = \"https://randomuser.me/api/\"\n",
    "        response = requests.get(url)\n",
    "        response = json.loads(response.text)\n",
    "        return response[\"results\"][0]\n",
    "    except Exception as e:\n",
    "        print(f\"there was an error{e}\")\n",
    "        return None"
   ]
  },
  {
   "cell_type": "code",
   "execution_count": 18,
   "id": "bfa93ca1-ca71-479a-b582-52656ec8ea0c",
   "metadata": {},
   "outputs": [],
   "source": [
    "people_list = []\n",
    "\n",
    "for _ in range(50):\n",
    "    people_list.append(get_data())"
   ]
  },
  {
   "cell_type": "code",
   "execution_count": 24,
   "id": "3224263e-a8bd-42a1-b46b-983f541abbd1",
   "metadata": {},
   "outputs": [],
   "source": [
    "data = pd.DataFrame(people_list,index=None)"
   ]
  }
 ],
 "metadata": {
  "kernelspec": {
   "display_name": "Python 3 (ipykernel)",
   "language": "python",
   "name": "python3"
  },
  "language_info": {
   "codemirror_mode": {
    "name": "ipython",
    "version": 3
   },
   "file_extension": ".py",
   "mimetype": "text/x-python",
   "name": "python",
   "nbconvert_exporter": "python",
   "pygments_lexer": "ipython3",
   "version": "3.11.9"
  }
 },
 "nbformat": 4,
 "nbformat_minor": 5
}
