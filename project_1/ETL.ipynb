{
 "cells": [
  {
   "cell_type": "code",
   "execution_count": 1,
   "id": "ba3536b9-7141-43b6-a70a-6343fc2cb424",
   "metadata": {},
   "outputs": [],
   "source": [
    "import requests\n",
    "import json\n",
    "import pandas as pd\n",
    "import psycopg2"
   ]
  },
  {
   "cell_type": "code",
   "execution_count": 2,
   "id": "bcc0a068-db81-4386-ae2a-b601e364f584",
   "metadata": {},
   "outputs": [],
   "source": [
    "def get_data():\n",
    "    \"\"\"\n",
    "    get data from random user api\n",
    "    \"\"\"\n",
    "    try:\n",
    "        url = \"https://randomuser.me/api/\"\n",
    "        response = requests.get(url)\n",
    "        response = json.loads(response.text)\n",
    "        return response[\"results\"][0]\n",
    "    except Exception as e:\n",
    "        print(f\"there was an error{e}\")\n",
    "        return None"
   ]
  },
  {
   "cell_type": "code",
   "execution_count": 3,
   "id": "bfa93ca1-ca71-479a-b582-52656ec8ea0c",
   "metadata": {},
   "outputs": [],
   "source": [
    "people_list = []\n",
    "\n",
    "for _ in range(5):\n",
    "    people_list.append(get_data())"
   ]
  },
  {
   "cell_type": "code",
   "execution_count": 4,
   "id": "3224263e-a8bd-42a1-b46b-983f541abbd1",
   "metadata": {},
   "outputs": [],
   "source": [
    "data = pd.DataFrame(people_list,index=None)"
   ]
  },
  {
   "cell_type": "code",
   "execution_count": 5,
   "id": "cbd88034-8c95-4db2-a25a-7e1305d35a59",
   "metadata": {},
   "outputs": [
    {
     "data": {
      "text/html": [
       "<div>\n",
       "<style scoped>\n",
       "    .dataframe tbody tr th:only-of-type {\n",
       "        vertical-align: middle;\n",
       "    }\n",
       "\n",
       "    .dataframe tbody tr th {\n",
       "        vertical-align: top;\n",
       "    }\n",
       "\n",
       "    .dataframe thead th {\n",
       "        text-align: right;\n",
       "    }\n",
       "</style>\n",
       "<table border=\"1\" class=\"dataframe\">\n",
       "  <thead>\n",
       "    <tr style=\"text-align: right;\">\n",
       "      <th></th>\n",
       "      <th>gender</th>\n",
       "      <th>name</th>\n",
       "      <th>location</th>\n",
       "      <th>email</th>\n",
       "      <th>login</th>\n",
       "      <th>dob</th>\n",
       "      <th>registered</th>\n",
       "      <th>phone</th>\n",
       "      <th>cell</th>\n",
       "      <th>id</th>\n",
       "      <th>picture</th>\n",
       "      <th>nat</th>\n",
       "    </tr>\n",
       "  </thead>\n",
       "  <tbody>\n",
       "    <tr>\n",
       "      <th>0</th>\n",
       "      <td>female</td>\n",
       "      <td>{'title': 'Ms', 'first': 'Alisa', 'last': 'Kivi'}</td>\n",
       "      <td>{'street': {'number': 6837, 'name': 'Esplanadi...</td>\n",
       "      <td>alisa.kivi@example.com</td>\n",
       "      <td>{'uuid': '05eca122-4dae-4a39-ada5-93fa6c1b3d79...</td>\n",
       "      <td>{'date': '1997-12-30T15:31:43.645Z', 'age': 26}</td>\n",
       "      <td>{'date': '2015-04-04T02:55:48.803Z', 'age': 9}</td>\n",
       "      <td>08-071-846</td>\n",
       "      <td>049-912-21-19</td>\n",
       "      <td>{'name': 'HETU', 'value': 'NaNNA246undefined'}</td>\n",
       "      <td>{'large': 'https://randomuser.me/api/portraits...</td>\n",
       "      <td>FI</td>\n",
       "    </tr>\n",
       "    <tr>\n",
       "      <th>1</th>\n",
       "      <td>female</td>\n",
       "      <td>{'title': 'Miss', 'first': 'Stefanija', 'last'...</td>\n",
       "      <td>{'street': {'number': 8802, 'name': 'Udarnih B...</td>\n",
       "      <td>stefanija.tadic@example.com</td>\n",
       "      <td>{'uuid': 'cc34ee6a-a5b9-4ccf-8e5e-bd5e93a6d27a...</td>\n",
       "      <td>{'date': '1964-12-07T19:28:00.931Z', 'age': 59}</td>\n",
       "      <td>{'date': '2020-11-18T02:36:54.481Z', 'age': 3}</td>\n",
       "      <td>016-4814-643</td>\n",
       "      <td>062-4531-587</td>\n",
       "      <td>{'name': 'SID', 'value': '748800857'}</td>\n",
       "      <td>{'large': 'https://randomuser.me/api/portraits...</td>\n",
       "      <td>RS</td>\n",
       "    </tr>\n",
       "    <tr>\n",
       "      <th>2</th>\n",
       "      <td>female</td>\n",
       "      <td>{'title': 'Miss', 'first': 'Kristin', 'last': ...</td>\n",
       "      <td>{'street': {'number': 9707, 'name': 'Mockingbi...</td>\n",
       "      <td>kristin.pena@example.com</td>\n",
       "      <td>{'uuid': '8b04f833-f1d8-482a-940d-2e018f46067c...</td>\n",
       "      <td>{'date': '1946-12-03T18:19:19.422Z', 'age': 77}</td>\n",
       "      <td>{'date': '2003-07-07T02:32:05.012Z', 'age': 20}</td>\n",
       "      <td>09-2404-4726</td>\n",
       "      <td>0469-501-338</td>\n",
       "      <td>{'name': 'TFN', 'value': '197972747'}</td>\n",
       "      <td>{'large': 'https://randomuser.me/api/portraits...</td>\n",
       "      <td>AU</td>\n",
       "    </tr>\n",
       "    <tr>\n",
       "      <th>3</th>\n",
       "      <td>female</td>\n",
       "      <td>{'title': 'Mrs', 'first': 'Tverdogosta', 'last...</td>\n",
       "      <td>{'street': {'number': 6722, 'name': 'Patona'},...</td>\n",
       "      <td>tverdogosta.radkevich@example.com</td>\n",
       "      <td>{'uuid': 'eb7faa93-be1b-4530-921c-9233dbaa9792...</td>\n",
       "      <td>{'date': '1956-06-19T04:34:13.379Z', 'age': 67}</td>\n",
       "      <td>{'date': '2006-08-30T03:03:49.878Z', 'age': 17}</td>\n",
       "      <td>(097) Q65-4515</td>\n",
       "      <td>(067) J45-7597</td>\n",
       "      <td>{'name': '', 'value': None}</td>\n",
       "      <td>{'large': 'https://randomuser.me/api/portraits...</td>\n",
       "      <td>UA</td>\n",
       "    </tr>\n",
       "    <tr>\n",
       "      <th>4</th>\n",
       "      <td>female</td>\n",
       "      <td>{'title': 'Ms', 'first': 'Camille', 'last': 'J...</td>\n",
       "      <td>{'street': {'number': 3117, 'name': '20th Ave'...</td>\n",
       "      <td>camille.jones@example.com</td>\n",
       "      <td>{'uuid': '47d140b9-6663-4b43-bfd0-157f5cc855e0...</td>\n",
       "      <td>{'date': '1969-11-04T09:35:13.524Z', 'age': 54}</td>\n",
       "      <td>{'date': '2021-07-25T22:33:15.704Z', 'age': 2}</td>\n",
       "      <td>V75 I39-0648</td>\n",
       "      <td>C42 I80-9695</td>\n",
       "      <td>{'name': 'SIN', 'value': '155009103'}</td>\n",
       "      <td>{'large': 'https://randomuser.me/api/portraits...</td>\n",
       "      <td>CA</td>\n",
       "    </tr>\n",
       "  </tbody>\n",
       "</table>\n",
       "</div>"
      ],
      "text/plain": [
       "   gender                                               name  \\\n",
       "0  female  {'title': 'Ms', 'first': 'Alisa', 'last': 'Kivi'}   \n",
       "1  female  {'title': 'Miss', 'first': 'Stefanija', 'last'...   \n",
       "2  female  {'title': 'Miss', 'first': 'Kristin', 'last': ...   \n",
       "3  female  {'title': 'Mrs', 'first': 'Tverdogosta', 'last...   \n",
       "4  female  {'title': 'Ms', 'first': 'Camille', 'last': 'J...   \n",
       "\n",
       "                                            location  \\\n",
       "0  {'street': {'number': 6837, 'name': 'Esplanadi...   \n",
       "1  {'street': {'number': 8802, 'name': 'Udarnih B...   \n",
       "2  {'street': {'number': 9707, 'name': 'Mockingbi...   \n",
       "3  {'street': {'number': 6722, 'name': 'Patona'},...   \n",
       "4  {'street': {'number': 3117, 'name': '20th Ave'...   \n",
       "\n",
       "                               email  \\\n",
       "0             alisa.kivi@example.com   \n",
       "1        stefanija.tadic@example.com   \n",
       "2           kristin.pena@example.com   \n",
       "3  tverdogosta.radkevich@example.com   \n",
       "4          camille.jones@example.com   \n",
       "\n",
       "                                               login  \\\n",
       "0  {'uuid': '05eca122-4dae-4a39-ada5-93fa6c1b3d79...   \n",
       "1  {'uuid': 'cc34ee6a-a5b9-4ccf-8e5e-bd5e93a6d27a...   \n",
       "2  {'uuid': '8b04f833-f1d8-482a-940d-2e018f46067c...   \n",
       "3  {'uuid': 'eb7faa93-be1b-4530-921c-9233dbaa9792...   \n",
       "4  {'uuid': '47d140b9-6663-4b43-bfd0-157f5cc855e0...   \n",
       "\n",
       "                                               dob  \\\n",
       "0  {'date': '1997-12-30T15:31:43.645Z', 'age': 26}   \n",
       "1  {'date': '1964-12-07T19:28:00.931Z', 'age': 59}   \n",
       "2  {'date': '1946-12-03T18:19:19.422Z', 'age': 77}   \n",
       "3  {'date': '1956-06-19T04:34:13.379Z', 'age': 67}   \n",
       "4  {'date': '1969-11-04T09:35:13.524Z', 'age': 54}   \n",
       "\n",
       "                                        registered           phone  \\\n",
       "0   {'date': '2015-04-04T02:55:48.803Z', 'age': 9}      08-071-846   \n",
       "1   {'date': '2020-11-18T02:36:54.481Z', 'age': 3}    016-4814-643   \n",
       "2  {'date': '2003-07-07T02:32:05.012Z', 'age': 20}    09-2404-4726   \n",
       "3  {'date': '2006-08-30T03:03:49.878Z', 'age': 17}  (097) Q65-4515   \n",
       "4   {'date': '2021-07-25T22:33:15.704Z', 'age': 2}    V75 I39-0648   \n",
       "\n",
       "             cell                                              id  \\\n",
       "0   049-912-21-19  {'name': 'HETU', 'value': 'NaNNA246undefined'}   \n",
       "1    062-4531-587           {'name': 'SID', 'value': '748800857'}   \n",
       "2    0469-501-338           {'name': 'TFN', 'value': '197972747'}   \n",
       "3  (067) J45-7597                     {'name': '', 'value': None}   \n",
       "4    C42 I80-9695           {'name': 'SIN', 'value': '155009103'}   \n",
       "\n",
       "                                             picture nat  \n",
       "0  {'large': 'https://randomuser.me/api/portraits...  FI  \n",
       "1  {'large': 'https://randomuser.me/api/portraits...  RS  \n",
       "2  {'large': 'https://randomuser.me/api/portraits...  AU  \n",
       "3  {'large': 'https://randomuser.me/api/portraits...  UA  \n",
       "4  {'large': 'https://randomuser.me/api/portraits...  CA  "
      ]
     },
     "execution_count": 5,
     "metadata": {},
     "output_type": "execute_result"
    }
   ],
   "source": [
    "data.head(5)"
   ]
  },
  {
   "cell_type": "code",
   "execution_count": 6,
   "id": "5cba84e6-06d6-478c-a9b5-ce2ccc24d247",
   "metadata": {},
   "outputs": [],
   "source": [
    "query = \"\"\"CREATE TABLE test_table (\n",
    "    id INTEGER PRIMARY KEY,\n",
    "    name TEXT,\n",
    "    age INTEGER,\n",
    "    email TEXT UNIQUE\n",
    ")\"\"\""
   ]
  },
  {
   "cell_type": "code",
   "execution_count": 24,
   "id": "b48f164c-ec28-4b6f-8c44-13e96d0681bc",
   "metadata": {},
   "outputs": [
    {
     "name": "stderr",
     "output_type": "stream",
     "text": [
      "Setting default log level to \"WARN\".\n",
      "To adjust logging level use sc.setLogLevel(newLevel). For SparkR, use setLogLevel(newLevel).\n",
      "24/04/09 21:05:28 WARN NativeCodeLoader: Unable to load native-hadoop library for your platform... using builtin-java classes where applicable\n"
     ]
    }
   ],
   "source": [
    "from pyspark.sql import SparkSession\n",
    "\n",
    "spark = SparkSession.builder \\\n",
    "    .appName(\"YourAppName\") \\\n",
    "    .config(\"spark.driver.extraClassPath\", \"postgresql-connector-java.jar\") \\\n",
    "    .config(\"spark.executor.extraClassPath\", \"postgresql-connector-java.jar\") \\\n",
    "    .getOrCreate()"
   ]
  },
  {
   "cell_type": "code",
   "execution_count": 17,
   "id": "b8e5d41b-38ff-43aa-a120-c6ee5f2b8d3e",
   "metadata": {},
   "outputs": [],
   "source": [
    "# url\n",
    "url = \"http://postgres-db:45432/postgres_db\"\n",
    "#user\n",
    "username = \"postgres\"\n",
    "password = \"postgres\""
   ]
  },
  {
   "cell_type": "code",
   "execution_count": 21,
   "id": "afe3d863-9f38-439d-9836-6710436fcdc4",
   "metadata": {},
   "outputs": [],
   "source": [
    "conn_details = psycopg2.connect(\n",
    "    host='postgres-db',\n",
    "    database=\"postgres_db\",\n",
    "    user=username,\n",
    "    # secretlint-disable\n",
    "    password=password,\n",
    "    # secretlint-enable\n",
    "    port='5432'\n",
    ")\n",
    "\n",
    "with conn_details:\n",
    "    cursor = conn_details.cursor()\n",
    "    query = query\n",
    "    cursor.execute(query)"
   ]
  },
  {
   "cell_type": "code",
   "execution_count": 25,
   "id": "f12d6787-2ca3-4b24-8dd9-9a76e25eb90e",
   "metadata": {},
   "outputs": [],
   "source": [
    "spark_df = spark.createDataFrame(data)"
   ]
  },
  {
   "cell_type": "code",
   "execution_count": 26,
   "id": "04d28ee5-5f25-4c83-919d-fa340d8ee98b",
   "metadata": {},
   "outputs": [
    {
     "name": "stderr",
     "output_type": "stream",
     "text": [
      "                                                                                \r"
     ]
    },
    {
     "name": "stdout",
     "output_type": "stream",
     "text": [
      "+------+--------------------+--------------------+--------------------+--------------------+--------------------+--------------------+--------------+--------------+--------------------+--------------------+---+\n",
      "|gender|                name|            location|               email|               login|                 dob|          registered|         phone|          cell|                  id|             picture|nat|\n",
      "+------+--------------------+--------------------+--------------------+--------------------+--------------------+--------------------+--------------+--------------+--------------------+--------------------+---+\n",
      "|female|{last -> Kivi, ti...|{country -> NULL,...|alisa.kivi@exampl...|{sha1 -> 5352e4c1...|{date -> 1997-12-...|{date -> 2015-04-...|    08-071-846| 049-912-21-19|{name -> HETU, va...|{thumbnail -> htt...| FI|\n",
      "|female|{last -> Tadić, t...|{country -> NULL,...|stefanija.tadic@e...|{sha1 -> f304fbd7...|{date -> 1964-12-...|{date -> 2020-11-...|  016-4814-643|  062-4531-587|{name -> SID, val...|{thumbnail -> htt...| RS|\n",
      "|female|{last -> Pena, ti...|{country -> NULL,...|kristin.pena@exam...|{sha1 -> cb3f7536...|{date -> 1946-12-...|{date -> 2003-07-...|  09-2404-4726|  0469-501-338|{name -> TFN, val...|{thumbnail -> htt...| AU|\n",
      "|female|{last -> Radkevic...|{country -> NULL,...|tverdogosta.radke...|{sha1 -> 23c2ee51...|{date -> 1956-06-...|{date -> 2006-08-...|(097) Q65-4515|(067) J45-7597|{name -> , value ...|{thumbnail -> htt...| UA|\n",
      "|female|{last -> Jones, t...|{country -> NULL,...|camille.jones@exa...|{sha1 -> b09e1c51...|{date -> 1969-11-...|{date -> 2021-07-...|  V75 I39-0648|  C42 I80-9695|{name -> SIN, val...|{thumbnail -> htt...| CA|\n",
      "+------+--------------------+--------------------+--------------------+--------------------+--------------------+--------------------+--------------+--------------+--------------------+--------------------+---+\n",
      "\n"
     ]
    }
   ],
   "source": [
    "spark_df.show()"
   ]
  },
  {
   "cell_type": "code",
   "execution_count": 29,
   "id": "4688a983-70c8-4615-aa19-6163bb9a86f8",
   "metadata": {},
   "outputs": [
    {
     "ename": "Py4JJavaError",
     "evalue": "An error occurred while calling o55.jdbc.\n: java.lang.ClassNotFoundException: postgresql-connector-java.jar\n\tat java.base/java.net.URLClassLoader.findClass(URLClassLoader.java:445)\n\tat java.base/java.lang.ClassLoader.loadClass(ClassLoader.java:592)\n\tat java.base/java.lang.ClassLoader.loadClass(ClassLoader.java:525)\n\tat org.apache.spark.sql.execution.datasources.jdbc.DriverRegistry$.register(DriverRegistry.scala:46)\n\tat org.apache.spark.sql.execution.datasources.jdbc.JDBCOptions.$anonfun$driverClass$1(JDBCOptions.scala:103)\n\tat org.apache.spark.sql.execution.datasources.jdbc.JDBCOptions.$anonfun$driverClass$1$adapted(JDBCOptions.scala:103)\n\tat scala.Option.foreach(Option.scala:407)\n\tat org.apache.spark.sql.execution.datasources.jdbc.JDBCOptions.<init>(JDBCOptions.scala:103)\n\tat org.apache.spark.sql.execution.datasources.jdbc.JdbcOptionsInWrite.<init>(JDBCOptions.scala:254)\n\tat org.apache.spark.sql.execution.datasources.jdbc.JdbcOptionsInWrite.<init>(JDBCOptions.scala:258)\n\tat org.apache.spark.sql.execution.datasources.jdbc.JdbcRelationProvider.createRelation(JdbcRelationProvider.scala:47)\n\tat org.apache.spark.sql.execution.datasources.SaveIntoDataSourceCommand.run(SaveIntoDataSourceCommand.scala:48)\n\tat org.apache.spark.sql.execution.command.ExecutedCommandExec.sideEffectResult$lzycompute(commands.scala:75)\n\tat org.apache.spark.sql.execution.command.ExecutedCommandExec.sideEffectResult(commands.scala:73)\n\tat org.apache.spark.sql.execution.command.ExecutedCommandExec.executeCollect(commands.scala:84)\n\tat org.apache.spark.sql.execution.QueryExecution$$anonfun$eagerlyExecuteCommands$1.$anonfun$applyOrElse$1(QueryExecution.scala:107)\n\tat org.apache.spark.sql.execution.SQLExecution$.$anonfun$withNewExecutionId$6(SQLExecution.scala:125)\n\tat org.apache.spark.sql.execution.SQLExecution$.withSQLConfPropagated(SQLExecution.scala:201)\n\tat org.apache.spark.sql.execution.SQLExecution$.$anonfun$withNewExecutionId$1(SQLExecution.scala:108)\n\tat org.apache.spark.sql.SparkSession.withActive(SparkSession.scala:900)\n\tat org.apache.spark.sql.execution.SQLExecution$.withNewExecutionId(SQLExecution.scala:66)\n\tat org.apache.spark.sql.execution.QueryExecution$$anonfun$eagerlyExecuteCommands$1.applyOrElse(QueryExecution.scala:107)\n\tat org.apache.spark.sql.execution.QueryExecution$$anonfun$eagerlyExecuteCommands$1.applyOrElse(QueryExecution.scala:98)\n\tat org.apache.spark.sql.catalyst.trees.TreeNode.$anonfun$transformDownWithPruning$1(TreeNode.scala:461)\n\tat org.apache.spark.sql.catalyst.trees.CurrentOrigin$.withOrigin(origin.scala:76)\n\tat org.apache.spark.sql.catalyst.trees.TreeNode.transformDownWithPruning(TreeNode.scala:461)\n\tat org.apache.spark.sql.catalyst.plans.logical.LogicalPlan.org$apache$spark$sql$catalyst$plans$logical$AnalysisHelper$$super$transformDownWithPruning(LogicalPlan.scala:32)\n\tat org.apache.spark.sql.catalyst.plans.logical.AnalysisHelper.transformDownWithPruning(AnalysisHelper.scala:267)\n\tat org.apache.spark.sql.catalyst.plans.logical.AnalysisHelper.transformDownWithPruning$(AnalysisHelper.scala:263)\n\tat org.apache.spark.sql.catalyst.plans.logical.LogicalPlan.transformDownWithPruning(LogicalPlan.scala:32)\n\tat org.apache.spark.sql.catalyst.plans.logical.LogicalPlan.transformDownWithPruning(LogicalPlan.scala:32)\n\tat org.apache.spark.sql.catalyst.trees.TreeNode.transformDown(TreeNode.scala:437)\n\tat org.apache.spark.sql.execution.QueryExecution.eagerlyExecuteCommands(QueryExecution.scala:98)\n\tat org.apache.spark.sql.execution.QueryExecution.commandExecuted$lzycompute(QueryExecution.scala:85)\n\tat org.apache.spark.sql.execution.QueryExecution.commandExecuted(QueryExecution.scala:83)\n\tat org.apache.spark.sql.execution.QueryExecution.assertCommandExecuted(QueryExecution.scala:142)\n\tat org.apache.spark.sql.DataFrameWriter.runCommand(DataFrameWriter.scala:859)\n\tat org.apache.spark.sql.DataFrameWriter.saveToV1Source(DataFrameWriter.scala:388)\n\tat org.apache.spark.sql.DataFrameWriter.saveInternal(DataFrameWriter.scala:361)\n\tat org.apache.spark.sql.DataFrameWriter.save(DataFrameWriter.scala:248)\n\tat org.apache.spark.sql.DataFrameWriter.jdbc(DataFrameWriter.scala:756)\n\tat java.base/jdk.internal.reflect.NativeMethodAccessorImpl.invoke0(Native Method)\n\tat java.base/jdk.internal.reflect.NativeMethodAccessorImpl.invoke(NativeMethodAccessorImpl.java:77)\n\tat java.base/jdk.internal.reflect.DelegatingMethodAccessorImpl.invoke(DelegatingMethodAccessorImpl.java:43)\n\tat java.base/java.lang.reflect.Method.invoke(Method.java:568)\n\tat py4j.reflection.MethodInvoker.invoke(MethodInvoker.java:244)\n\tat py4j.reflection.ReflectionEngine.invoke(ReflectionEngine.java:374)\n\tat py4j.Gateway.invoke(Gateway.java:282)\n\tat py4j.commands.AbstractCommand.invokeMethod(AbstractCommand.java:132)\n\tat py4j.commands.CallCommand.execute(CallCommand.java:79)\n\tat py4j.ClientServerConnection.waitForCommands(ClientServerConnection.java:182)\n\tat py4j.ClientServerConnection.run(ClientServerConnection.java:106)\n\tat java.base/java.lang.Thread.run(Thread.java:840)\n",
     "output_type": "error",
     "traceback": [
      "\u001b[0;31m---------------------------------------------------------------------------\u001b[0m",
      "\u001b[0;31mPy4JJavaError\u001b[0m                             Traceback (most recent call last)",
      "Cell \u001b[0;32mIn[29], line 2\u001b[0m\n\u001b[1;32m      1\u001b[0m properties \u001b[38;5;241m=\u001b[39m {\u001b[38;5;124m\"\u001b[39m\u001b[38;5;124muser\u001b[39m\u001b[38;5;124m\"\u001b[39m: \u001b[38;5;124m\"\u001b[39m\u001b[38;5;124mpostgres\u001b[39m\u001b[38;5;124m\"\u001b[39m,\u001b[38;5;124m\"\u001b[39m\u001b[38;5;124mpassword\u001b[39m\u001b[38;5;124m\"\u001b[39m: password,\u001b[38;5;124m\"\u001b[39m\u001b[38;5;124mdriver\u001b[39m\u001b[38;5;124m\"\u001b[39m: \u001b[38;5;124m\"\u001b[39m\u001b[38;5;124mpostgresql-connector-java.jar\u001b[39m\u001b[38;5;124m\"\u001b[39m}\n\u001b[0;32m----> 2\u001b[0m \u001b[43mspark_df\u001b[49m\u001b[38;5;241;43m.\u001b[39;49m\u001b[43mwrite\u001b[49m\u001b[38;5;241;43m.\u001b[39;49m\u001b[43mjdbc\u001b[49m\u001b[43m(\u001b[49m\u001b[43murl\u001b[49m\u001b[38;5;241;43m=\u001b[39;49m\u001b[38;5;124;43m'\u001b[39;49m\u001b[38;5;124;43mpostgres-db\u001b[39;49m\u001b[38;5;124;43m'\u001b[39;49m\u001b[43m,\u001b[49m\u001b[43m \u001b[49m\u001b[43mtable\u001b[49m\u001b[38;5;241;43m=\u001b[39;49m\u001b[38;5;124;43m\"\u001b[39;49m\u001b[38;5;124;43mtest_result\u001b[39;49m\u001b[38;5;124;43m\"\u001b[39;49m\u001b[43m,\u001b[49m\u001b[43m \u001b[49m\u001b[43mproperties\u001b[49m\u001b[38;5;241;43m=\u001b[39;49m\u001b[43mproperties\u001b[49m\u001b[43m)\u001b[49m\n",
      "File \u001b[0;32m/usr/local/lib/python3.11/site-packages/pyspark/sql/readwriter.py:1984\u001b[0m, in \u001b[0;36mDataFrameWriter.jdbc\u001b[0;34m(self, url, table, mode, properties)\u001b[0m\n\u001b[1;32m   1982\u001b[0m \u001b[38;5;28;01mfor\u001b[39;00m k \u001b[38;5;129;01min\u001b[39;00m properties:\n\u001b[1;32m   1983\u001b[0m     jprop\u001b[38;5;241m.\u001b[39msetProperty(k, properties[k])\n\u001b[0;32m-> 1984\u001b[0m \u001b[38;5;28;43mself\u001b[39;49m\u001b[38;5;241;43m.\u001b[39;49m\u001b[43mmode\u001b[49m\u001b[43m(\u001b[49m\u001b[43mmode\u001b[49m\u001b[43m)\u001b[49m\u001b[38;5;241;43m.\u001b[39;49m\u001b[43m_jwrite\u001b[49m\u001b[38;5;241;43m.\u001b[39;49m\u001b[43mjdbc\u001b[49m\u001b[43m(\u001b[49m\u001b[43murl\u001b[49m\u001b[43m,\u001b[49m\u001b[43m \u001b[49m\u001b[43mtable\u001b[49m\u001b[43m,\u001b[49m\u001b[43m \u001b[49m\u001b[43mjprop\u001b[49m\u001b[43m)\u001b[49m\n",
      "File \u001b[0;32m/usr/local/lib/python3.11/site-packages/py4j/java_gateway.py:1322\u001b[0m, in \u001b[0;36mJavaMember.__call__\u001b[0;34m(self, *args)\u001b[0m\n\u001b[1;32m   1316\u001b[0m command \u001b[38;5;241m=\u001b[39m proto\u001b[38;5;241m.\u001b[39mCALL_COMMAND_NAME \u001b[38;5;241m+\u001b[39m\\\n\u001b[1;32m   1317\u001b[0m     \u001b[38;5;28mself\u001b[39m\u001b[38;5;241m.\u001b[39mcommand_header \u001b[38;5;241m+\u001b[39m\\\n\u001b[1;32m   1318\u001b[0m     args_command \u001b[38;5;241m+\u001b[39m\\\n\u001b[1;32m   1319\u001b[0m     proto\u001b[38;5;241m.\u001b[39mEND_COMMAND_PART\n\u001b[1;32m   1321\u001b[0m answer \u001b[38;5;241m=\u001b[39m \u001b[38;5;28mself\u001b[39m\u001b[38;5;241m.\u001b[39mgateway_client\u001b[38;5;241m.\u001b[39msend_command(command)\n\u001b[0;32m-> 1322\u001b[0m return_value \u001b[38;5;241m=\u001b[39m \u001b[43mget_return_value\u001b[49m\u001b[43m(\u001b[49m\n\u001b[1;32m   1323\u001b[0m \u001b[43m    \u001b[49m\u001b[43manswer\u001b[49m\u001b[43m,\u001b[49m\u001b[43m \u001b[49m\u001b[38;5;28;43mself\u001b[39;49m\u001b[38;5;241;43m.\u001b[39;49m\u001b[43mgateway_client\u001b[49m\u001b[43m,\u001b[49m\u001b[43m \u001b[49m\u001b[38;5;28;43mself\u001b[39;49m\u001b[38;5;241;43m.\u001b[39;49m\u001b[43mtarget_id\u001b[49m\u001b[43m,\u001b[49m\u001b[43m \u001b[49m\u001b[38;5;28;43mself\u001b[39;49m\u001b[38;5;241;43m.\u001b[39;49m\u001b[43mname\u001b[49m\u001b[43m)\u001b[49m\n\u001b[1;32m   1325\u001b[0m \u001b[38;5;28;01mfor\u001b[39;00m temp_arg \u001b[38;5;129;01min\u001b[39;00m temp_args:\n\u001b[1;32m   1326\u001b[0m     \u001b[38;5;28;01mif\u001b[39;00m \u001b[38;5;28mhasattr\u001b[39m(temp_arg, \u001b[38;5;124m\"\u001b[39m\u001b[38;5;124m_detach\u001b[39m\u001b[38;5;124m\"\u001b[39m):\n",
      "File \u001b[0;32m/usr/local/lib/python3.11/site-packages/pyspark/errors/exceptions/captured.py:179\u001b[0m, in \u001b[0;36mcapture_sql_exception.<locals>.deco\u001b[0;34m(*a, **kw)\u001b[0m\n\u001b[1;32m    177\u001b[0m \u001b[38;5;28;01mdef\u001b[39;00m \u001b[38;5;21mdeco\u001b[39m(\u001b[38;5;241m*\u001b[39ma: Any, \u001b[38;5;241m*\u001b[39m\u001b[38;5;241m*\u001b[39mkw: Any) \u001b[38;5;241m-\u001b[39m\u001b[38;5;241m>\u001b[39m Any:\n\u001b[1;32m    178\u001b[0m     \u001b[38;5;28;01mtry\u001b[39;00m:\n\u001b[0;32m--> 179\u001b[0m         \u001b[38;5;28;01mreturn\u001b[39;00m \u001b[43mf\u001b[49m\u001b[43m(\u001b[49m\u001b[38;5;241;43m*\u001b[39;49m\u001b[43ma\u001b[49m\u001b[43m,\u001b[49m\u001b[43m \u001b[49m\u001b[38;5;241;43m*\u001b[39;49m\u001b[38;5;241;43m*\u001b[39;49m\u001b[43mkw\u001b[49m\u001b[43m)\u001b[49m\n\u001b[1;32m    180\u001b[0m     \u001b[38;5;28;01mexcept\u001b[39;00m Py4JJavaError \u001b[38;5;28;01mas\u001b[39;00m e:\n\u001b[1;32m    181\u001b[0m         converted \u001b[38;5;241m=\u001b[39m convert_exception(e\u001b[38;5;241m.\u001b[39mjava_exception)\n",
      "File \u001b[0;32m/usr/local/lib/python3.11/site-packages/py4j/protocol.py:326\u001b[0m, in \u001b[0;36mget_return_value\u001b[0;34m(answer, gateway_client, target_id, name)\u001b[0m\n\u001b[1;32m    324\u001b[0m value \u001b[38;5;241m=\u001b[39m OUTPUT_CONVERTER[\u001b[38;5;28mtype\u001b[39m](answer[\u001b[38;5;241m2\u001b[39m:], gateway_client)\n\u001b[1;32m    325\u001b[0m \u001b[38;5;28;01mif\u001b[39;00m answer[\u001b[38;5;241m1\u001b[39m] \u001b[38;5;241m==\u001b[39m REFERENCE_TYPE:\n\u001b[0;32m--> 326\u001b[0m     \u001b[38;5;28;01mraise\u001b[39;00m Py4JJavaError(\n\u001b[1;32m    327\u001b[0m         \u001b[38;5;124m\"\u001b[39m\u001b[38;5;124mAn error occurred while calling \u001b[39m\u001b[38;5;132;01m{0}\u001b[39;00m\u001b[38;5;132;01m{1}\u001b[39;00m\u001b[38;5;132;01m{2}\u001b[39;00m\u001b[38;5;124m.\u001b[39m\u001b[38;5;130;01m\\n\u001b[39;00m\u001b[38;5;124m\"\u001b[39m\u001b[38;5;241m.\u001b[39m\n\u001b[1;32m    328\u001b[0m         \u001b[38;5;28mformat\u001b[39m(target_id, \u001b[38;5;124m\"\u001b[39m\u001b[38;5;124m.\u001b[39m\u001b[38;5;124m\"\u001b[39m, name), value)\n\u001b[1;32m    329\u001b[0m \u001b[38;5;28;01melse\u001b[39;00m:\n\u001b[1;32m    330\u001b[0m     \u001b[38;5;28;01mraise\u001b[39;00m Py4JError(\n\u001b[1;32m    331\u001b[0m         \u001b[38;5;124m\"\u001b[39m\u001b[38;5;124mAn error occurred while calling \u001b[39m\u001b[38;5;132;01m{0}\u001b[39;00m\u001b[38;5;132;01m{1}\u001b[39;00m\u001b[38;5;132;01m{2}\u001b[39;00m\u001b[38;5;124m. Trace:\u001b[39m\u001b[38;5;130;01m\\n\u001b[39;00m\u001b[38;5;132;01m{3}\u001b[39;00m\u001b[38;5;130;01m\\n\u001b[39;00m\u001b[38;5;124m\"\u001b[39m\u001b[38;5;241m.\u001b[39m\n\u001b[1;32m    332\u001b[0m         \u001b[38;5;28mformat\u001b[39m(target_id, \u001b[38;5;124m\"\u001b[39m\u001b[38;5;124m.\u001b[39m\u001b[38;5;124m\"\u001b[39m, name, value))\n",
      "\u001b[0;31mPy4JJavaError\u001b[0m: An error occurred while calling o55.jdbc.\n: java.lang.ClassNotFoundException: postgresql-connector-java.jar\n\tat java.base/java.net.URLClassLoader.findClass(URLClassLoader.java:445)\n\tat java.base/java.lang.ClassLoader.loadClass(ClassLoader.java:592)\n\tat java.base/java.lang.ClassLoader.loadClass(ClassLoader.java:525)\n\tat org.apache.spark.sql.execution.datasources.jdbc.DriverRegistry$.register(DriverRegistry.scala:46)\n\tat org.apache.spark.sql.execution.datasources.jdbc.JDBCOptions.$anonfun$driverClass$1(JDBCOptions.scala:103)\n\tat org.apache.spark.sql.execution.datasources.jdbc.JDBCOptions.$anonfun$driverClass$1$adapted(JDBCOptions.scala:103)\n\tat scala.Option.foreach(Option.scala:407)\n\tat org.apache.spark.sql.execution.datasources.jdbc.JDBCOptions.<init>(JDBCOptions.scala:103)\n\tat org.apache.spark.sql.execution.datasources.jdbc.JdbcOptionsInWrite.<init>(JDBCOptions.scala:254)\n\tat org.apache.spark.sql.execution.datasources.jdbc.JdbcOptionsInWrite.<init>(JDBCOptions.scala:258)\n\tat org.apache.spark.sql.execution.datasources.jdbc.JdbcRelationProvider.createRelation(JdbcRelationProvider.scala:47)\n\tat org.apache.spark.sql.execution.datasources.SaveIntoDataSourceCommand.run(SaveIntoDataSourceCommand.scala:48)\n\tat org.apache.spark.sql.execution.command.ExecutedCommandExec.sideEffectResult$lzycompute(commands.scala:75)\n\tat org.apache.spark.sql.execution.command.ExecutedCommandExec.sideEffectResult(commands.scala:73)\n\tat org.apache.spark.sql.execution.command.ExecutedCommandExec.executeCollect(commands.scala:84)\n\tat org.apache.spark.sql.execution.QueryExecution$$anonfun$eagerlyExecuteCommands$1.$anonfun$applyOrElse$1(QueryExecution.scala:107)\n\tat org.apache.spark.sql.execution.SQLExecution$.$anonfun$withNewExecutionId$6(SQLExecution.scala:125)\n\tat org.apache.spark.sql.execution.SQLExecution$.withSQLConfPropagated(SQLExecution.scala:201)\n\tat org.apache.spark.sql.execution.SQLExecution$.$anonfun$withNewExecutionId$1(SQLExecution.scala:108)\n\tat org.apache.spark.sql.SparkSession.withActive(SparkSession.scala:900)\n\tat org.apache.spark.sql.execution.SQLExecution$.withNewExecutionId(SQLExecution.scala:66)\n\tat org.apache.spark.sql.execution.QueryExecution$$anonfun$eagerlyExecuteCommands$1.applyOrElse(QueryExecution.scala:107)\n\tat org.apache.spark.sql.execution.QueryExecution$$anonfun$eagerlyExecuteCommands$1.applyOrElse(QueryExecution.scala:98)\n\tat org.apache.spark.sql.catalyst.trees.TreeNode.$anonfun$transformDownWithPruning$1(TreeNode.scala:461)\n\tat org.apache.spark.sql.catalyst.trees.CurrentOrigin$.withOrigin(origin.scala:76)\n\tat org.apache.spark.sql.catalyst.trees.TreeNode.transformDownWithPruning(TreeNode.scala:461)\n\tat org.apache.spark.sql.catalyst.plans.logical.LogicalPlan.org$apache$spark$sql$catalyst$plans$logical$AnalysisHelper$$super$transformDownWithPruning(LogicalPlan.scala:32)\n\tat org.apache.spark.sql.catalyst.plans.logical.AnalysisHelper.transformDownWithPruning(AnalysisHelper.scala:267)\n\tat org.apache.spark.sql.catalyst.plans.logical.AnalysisHelper.transformDownWithPruning$(AnalysisHelper.scala:263)\n\tat org.apache.spark.sql.catalyst.plans.logical.LogicalPlan.transformDownWithPruning(LogicalPlan.scala:32)\n\tat org.apache.spark.sql.catalyst.plans.logical.LogicalPlan.transformDownWithPruning(LogicalPlan.scala:32)\n\tat org.apache.spark.sql.catalyst.trees.TreeNode.transformDown(TreeNode.scala:437)\n\tat org.apache.spark.sql.execution.QueryExecution.eagerlyExecuteCommands(QueryExecution.scala:98)\n\tat org.apache.spark.sql.execution.QueryExecution.commandExecuted$lzycompute(QueryExecution.scala:85)\n\tat org.apache.spark.sql.execution.QueryExecution.commandExecuted(QueryExecution.scala:83)\n\tat org.apache.spark.sql.execution.QueryExecution.assertCommandExecuted(QueryExecution.scala:142)\n\tat org.apache.spark.sql.DataFrameWriter.runCommand(DataFrameWriter.scala:859)\n\tat org.apache.spark.sql.DataFrameWriter.saveToV1Source(DataFrameWriter.scala:388)\n\tat org.apache.spark.sql.DataFrameWriter.saveInternal(DataFrameWriter.scala:361)\n\tat org.apache.spark.sql.DataFrameWriter.save(DataFrameWriter.scala:248)\n\tat org.apache.spark.sql.DataFrameWriter.jdbc(DataFrameWriter.scala:756)\n\tat java.base/jdk.internal.reflect.NativeMethodAccessorImpl.invoke0(Native Method)\n\tat java.base/jdk.internal.reflect.NativeMethodAccessorImpl.invoke(NativeMethodAccessorImpl.java:77)\n\tat java.base/jdk.internal.reflect.DelegatingMethodAccessorImpl.invoke(DelegatingMethodAccessorImpl.java:43)\n\tat java.base/java.lang.reflect.Method.invoke(Method.java:568)\n\tat py4j.reflection.MethodInvoker.invoke(MethodInvoker.java:244)\n\tat py4j.reflection.ReflectionEngine.invoke(ReflectionEngine.java:374)\n\tat py4j.Gateway.invoke(Gateway.java:282)\n\tat py4j.commands.AbstractCommand.invokeMethod(AbstractCommand.java:132)\n\tat py4j.commands.CallCommand.execute(CallCommand.java:79)\n\tat py4j.ClientServerConnection.waitForCommands(ClientServerConnection.java:182)\n\tat py4j.ClientServerConnection.run(ClientServerConnection.java:106)\n\tat java.base/java.lang.Thread.run(Thread.java:840)\n"
     ]
    }
   ],
   "source": [
    "properties = {\"user\": \"postgres\",\"password\": password}\n",
    "spark_df.write.jdbc(url='postgres-db', table=\"test_result\", properties=properties)"
   ]
  },
  {
   "cell_type": "code",
   "execution_count": 3,
   "id": "6582b3ba-a4cc-4319-bf8b-3670a06cfc99",
   "metadata": {},
   "outputs": [
    {
     "name": "stdout",
     "output_type": "stream",
     "text": [
      "Error connecting to MySQL database: 2003 (HY000): Can't connect to MySQL server on 'localhost:3306' (99)\n"
     ]
    }
   ],
   "source": [
    "import mysql.connector\n",
    "\n",
    "def create_mysql_connection():\n",
    "    try:\n",
    "        # Connect to the MySQL database\n",
    "        connection = mysql.connector.connect(\n",
    "            host=\"localhost\",\n",
    "            user=\"username\",\n",
    "            password=\"password\",\n",
    "            database=\"database_name\"\n",
    "        )\n",
    "        print(\"Connection to MySQL database successful.\")\n",
    "        return connection\n",
    "    except mysql.connector.Error as e:\n",
    "        print(\"Error connecting to MySQL database:\", e)\n",
    "        return None\n",
    "\n",
    "if __name__ == \"__main__\":\n",
    "    connection = create_mysql_connection()\n",
    "    if connection:\n",
    "        connection.close()\n",
    "        print(\"Connection closed.\")\n"
   ]
  },
  {
   "cell_type": "code",
   "execution_count": 30,
   "id": "a13868ee-8ab6-4d4e-9bf0-e1c5c92f5b82",
   "metadata": {},
   "outputs": [
    {
     "name": "stdout",
     "output_type": "stream",
     "text": [
      "ETL.ipynb  docker-compose.yml\n"
     ]
    }
   ],
   "source": [
    "! ls"
   ]
  },
  {
   "cell_type": "code",
   "execution_count": 31,
   "id": "4225f78d-066c-4ac2-ab7f-11dc6f922aa9",
   "metadata": {},
   "outputs": [],
   "source": [
    "! cd ../"
   ]
  },
  {
   "cell_type": "code",
   "execution_count": 32,
   "id": "15dc45fa-2c56-45c8-8b26-dc48522dc69e",
   "metadata": {},
   "outputs": [
    {
     "name": "stdout",
     "output_type": "stream",
     "text": [
      "ETL.ipynb  docker-compose.yml\n"
     ]
    }
   ],
   "source": [
    "! ls"
   ]
  },
  {
   "cell_type": "code",
   "execution_count": null,
   "id": "c82002d7-b09a-4d60-b158-2f78a7ebdb55",
   "metadata": {},
   "outputs": [],
   "source": []
  }
 ],
 "metadata": {
  "kernelspec": {
   "display_name": "Python 3 (ipykernel)",
   "language": "python",
   "name": "python3"
  },
  "language_info": {
   "codemirror_mode": {
    "name": "ipython",
    "version": 3
   },
   "file_extension": ".py",
   "mimetype": "text/x-python",
   "name": "python",
   "nbconvert_exporter": "python",
   "pygments_lexer": "ipython3",
   "version": "3.11.9"
  }
 },
 "nbformat": 4,
 "nbformat_minor": 5
}
