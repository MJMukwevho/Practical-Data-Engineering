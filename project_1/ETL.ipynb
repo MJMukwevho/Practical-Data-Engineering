{
 "cells": [
  {
   "cell_type": "markdown",
   "id": "5725ca8c",
   "metadata": {},
   "source": [
    "# Simple ETL Application\n",
    "\n",
    "In this notebook, we connect to an api, extract data, create a spark dataframe and then finally write to a postgres database. "
   ]
  },
  {
   "cell_type": "code",
   "execution_count": null,
   "id": "ba3536b9-7141-43b6-a70a-6343fc2cb424",
   "metadata": {},
   "outputs": [],
   "source": [
    "import requests\n",
    "import json\n",
    "import pandas as pd\n",
    "import psycopg2"
   ]
  },
  {
   "cell_type": "markdown",
   "id": "7dfd2f88",
   "metadata": {},
   "source": [
    "## Get data from Randomuser API"
   ]
  },
  {
   "cell_type": "code",
   "execution_count": 2,
   "id": "bcc0a068-db81-4386-ae2a-b601e364f584",
   "metadata": {},
   "outputs": [],
   "source": [
    "def get_data():\n",
    "    \"\"\"\n",
    "    get data from random user api\n",
    "    \"\"\"\n",
    "    try:\n",
    "        url = \"https://randomuser.me/api/\"\n",
    "        response = requests.get(url)\n",
    "        response = json.loads(response.text)\n",
    "        return response[\"results\"][0]\n",
    "    except Exception as e:\n",
    "        print(f\"there was an error{e}\")\n",
    "        return None"
   ]
  },
  {
   "cell_type": "markdown",
   "id": "c14af24d",
   "metadata": {},
   "source": [
    "## Create dataframe"
   ]
  },
  {
   "cell_type": "code",
   "execution_count": 3,
   "id": "bfa93ca1-ca71-479a-b582-52656ec8ea0c",
   "metadata": {},
   "outputs": [],
   "source": [
    "people_list = []\n",
    "\n",
    "for _ in range(5):\n",
    "    people_list.append(get_data())\n",
    "\n",
    "data = pd.DataFrame(people_list,index=None)"
   ]
  },
  {
   "cell_type": "markdown",
   "id": "3224263e-a8bd-42a1-b46b-983f541abbd1",
   "metadata": {},
   "source": [
    "## Create table in postgres Database using psycopg2 library"
   ]
  },
  {
   "cell_type": "code",
   "execution_count": null,
   "id": "5cba84e6-06d6-478c-a9b5-ce2ccc24d247",
   "metadata": {},
   "outputs": [],
   "source": [
    "query = \"\"\"CREATE TABLE test_table (\n",
    "    id INTEGER PRIMARY KEY,\n",
    "    name TEXT,\n",
    "    age INTEGER,\n",
    "    email TEXT UNIQUE\n",
    ")\"\"\""
   ]
  },
  {
   "cell_type": "code",
   "execution_count": null,
   "id": "b8a57938",
   "metadata": {},
   "outputs": [],
   "source": [
    "# url\n",
    "url = \"http://postgres-db:45432/postgres_db\"\n",
    "#user\n",
    "username = \"postgres\"\n",
    "password = \"postgres\"\n",
    "\n",
    "conn_details = psycopg2.connect(\n",
    "    host='postgres-db',\n",
    "    database=\"postgres_db\",\n",
    "    user=username,\n",
    "    # secretlint-disable\n",
    "    password=password,\n",
    "    # secretlint-enable\n",
    "    port='5432'\n",
    ")\n",
    "\n",
    "with conn_details:\n",
    "    cursor = conn_details.cursor()\n",
    "    query = query\n",
    "    cursor.execute(query)"
   ]
  },
  {
   "cell_type": "markdown",
   "id": "df5c67ce",
   "metadata": {},
   "source": [
    "## Insert Records"
   ]
  },
  {
   "cell_type": "markdown",
   "id": "d3ae4c78",
   "metadata": {},
   "source": [
    "## Create a spark Session"
   ]
  },
  {
   "cell_type": "code",
   "execution_count": 24,
   "id": "b48f164c-ec28-4b6f-8c44-13e96d0681bc",
   "metadata": {},
   "outputs": [
    {
     "name": "stderr",
     "output_type": "stream",
     "text": [
      "Setting default log level to \"WARN\".\n",
      "To adjust logging level use sc.setLogLevel(newLevel). For SparkR, use setLogLevel(newLevel).\n",
      "24/04/09 21:05:28 WARN NativeCodeLoader: Unable to load native-hadoop library for your platform... using builtin-java classes where applicable\n"
     ]
    }
   ],
   "source": [
    "from pyspark.sql import SparkSession\n",
    "\n",
    "spark = SparkSession.builder \\\n",
    "    .appName(\"YourAppName\") \\\n",
    "    .config(\"spark.driver.extraClassPath\", \"postgresql-connector-java.jar\") \\\n",
    "    .config(\"spark.executor.extraClassPath\", \"postgresql-connector-java.jar\") \\\n",
    "    .getOrCreate()"
   ]
  },
  {
   "cell_type": "markdown",
   "id": "b8e5d41b-38ff-43aa-a120-c6ee5f2b8d3e",
   "metadata": {},
   "source": [
    "## Create Spark dataframe"
   ]
  },
  {
   "cell_type": "code",
   "execution_count": 25,
   "id": "f12d6787-2ca3-4b24-8dd9-9a76e25eb90e",
   "metadata": {},
   "outputs": [],
   "source": [
    "spark_df = spark.createDataFrame(data)"
   ]
  }
 ],
 "metadata": {
  "kernelspec": {
   "display_name": "Python 3 (ipykernel)",
   "language": "python",
   "name": "python3"
  },
  "language_info": {
   "codemirror_mode": {
    "name": "ipython",
    "version": 3
   },
   "file_extension": ".py",
   "mimetype": "text/x-python",
   "name": "python",
   "nbconvert_exporter": "python",
   "pygments_lexer": "ipython3",
   "version": "3.11.9"
  }
 },
 "nbformat": 4,
 "nbformat_minor": 5
}
