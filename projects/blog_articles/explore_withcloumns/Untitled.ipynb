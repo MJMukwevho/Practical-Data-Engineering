{
 "cells": [
  {
   "cell_type": "code",
   "execution_count": 17,
   "id": "0fd4a4d2-18ff-4f94-a5e4-597bc08f4da1",
   "metadata": {},
   "outputs": [],
   "source": [
    "from pyspark.sql import SparkSession\n",
    "from pyspark.sql.types import StructType, StructField, StringType, FloatType\n",
    "from pyspark.sql.functions import col\n",
    "\n",
    "import time"
   ]
  },
  {
   "cell_type": "code",
   "execution_count": 18,
   "id": "39c8c077-871a-4ef0-8c5b-b64dca9d3ac7",
   "metadata": {},
   "outputs": [],
   "source": [
    "# Replace with your cluster's master URL\n",
    "master_url = \"spark://spark-master:7077\"  # Or use the actual hostname or IP\n",
    "\n",
    "spark = SparkSession.builder \\\n",
    "    .appName(\"MyLocalSparkJob\") \\\n",
    "    .getOrCreate()"
   ]
  },
  {
   "cell_type": "code",
   "execution_count": 19,
   "id": "d4da5008-5f18-445a-b7a1-8f6b0c9b6915",
   "metadata": {},
   "outputs": [],
   "source": [
    "import random\n",
    "\n",
    "def create_dataframe(num_rows, num_cols):\n",
    "\n",
    "    #generate column names\n",
    "    column_names = [f\"col{i}\" for i in range(num_cols)]\n",
    "\n",
    "    #generate data\n",
    "    data = [[random.random() for _ in range(num_cols)] for _ in range(num_rows)]\n",
    "\n",
    "    #define schema\n",
    "    schema = StructType([StructField(name, StringType(),True) for name in column_names])\n",
    "\n",
    "    return spark.createDataFrame(data, schema)"
   ]
  },
  {
   "cell_type": "code",
   "execution_count": 20,
   "id": "d4b19953-6352-41b2-a000-ac7841fe5f4b",
   "metadata": {},
   "outputs": [],
   "source": [
    "def cast_to_float_withColumns(df):\n",
    "    #use for loop \n",
    "    for col in df.columns:\n",
    "        df = df.withColumn(col, df[col].cast(FloatType()))\n",
    "\n",
    "    return df"
   ]
  },
  {
   "cell_type": "code",
   "execution_count": 21,
   "id": "6af4d3e5-d454-430d-b9c8-6430c07e0144",
   "metadata": {},
   "outputs": [],
   "source": [
    "def cast_to_float_select(df):\n",
    "    casted_columns = [col(column_name).cast(FloatType()).alias(column_name) for column_name in df.columns]\n",
    "\n",
    "    df_casted = df.select(*casted_columns)\n",
    "\n",
    "    return df_casted"
   ]
  },
  {
   "cell_type": "code",
   "execution_count": 6,
   "id": "2a8a1a62-2f0f-4b84-9002-69efb1c4b0a0",
   "metadata": {},
   "outputs": [],
   "source": [
    "df = create_dataframe(320,50)"
   ]
  },
  {
   "cell_type": "code",
   "execution_count": 7,
   "id": "f200ab4e-234d-401d-a30f-6abd0565e76f",
   "metadata": {},
   "outputs": [],
   "source": [
    "start_time = time.time()\n",
    "with_col = cast_to_float_withColumns(df)\n",
    "end_time = time.time()"
   ]
  },
  {
   "cell_type": "code",
   "execution_count": 8,
   "id": "ee8d393e-5b7f-42d9-8338-aa8a420dc23e",
   "metadata": {},
   "outputs": [
    {
     "data": {
      "text/plain": [
       "1.2751898765563965"
      ]
     },
     "execution_count": 8,
     "metadata": {},
     "output_type": "execute_result"
    }
   ],
   "source": [
    "end_time - start_time"
   ]
  },
  {
   "cell_type": "code",
   "execution_count": 9,
   "id": "bb1e85d8-1133-41fa-aa1a-220fe4eb7c70",
   "metadata": {},
   "outputs": [],
   "source": [
    "start_time = time.time()\n",
    "with_select = cast_to_float_select(df)\n",
    "end_time = time.time()"
   ]
  },
  {
   "cell_type": "code",
   "execution_count": 10,
   "id": "a52a64f0-9108-4ba6-b75c-5437ec6068d7",
   "metadata": {},
   "outputs": [
    {
     "data": {
      "text/plain": [
       "0.38121604919433594"
      ]
     },
     "execution_count": 10,
     "metadata": {},
     "output_type": "execute_result"
    }
   ],
   "source": [
    "end_time - start_time"
   ]
  },
  {
   "cell_type": "code",
   "execution_count": 11,
   "id": "f3d45fbb-f618-439d-bb2f-be5550a0a3c9",
   "metadata": {},
   "outputs": [],
   "source": [
    "import time\n",
    "\n",
    "def compare_withColumn_and_select_performance(num_rows=50, col_num_list = [1, 5, 10, 50, 100]):\n",
    "    \"\"\"\n",
    "    Compares the performance of `withColumn` and `select` methods on dataframes with varying column numbers.\n",
    "    \n",
    "    Parameters:\n",
    "    - create_dataframe: Function to create a dataframe with the specified number of rows and columns.\n",
    "    - cast_to_float_withColumns: Function that casts columns to float using `withColumn`.\n",
    "    - cast_to_float_select: Function that casts columns to float using `select`.\n",
    "    - max_columns: The maximum number of columns to test (default is 100).\n",
    "    - num_rows: The number of rows in the dataframe (default is 50).\n",
    "\n",
    "    Returns:\n",
    "    - with_col_times_list: A list of times for `withColumn`.\n",
    "    - select_times_list: A list of times for `select`.\n",
    "    \"\"\"\n",
    "    with_col_times_list = []\n",
    "    select_times_list = []\n",
    "    \n",
    "    for col_num in col_num_list:\n",
    "        # Generate the dataframe once\n",
    "        df = create_dataframe(num_rows, col_num)\n",
    "\n",
    "        # Measure performance for withColumn\n",
    "        start_time = time.time()\n",
    "        _ = cast_to_float_withColumns(df).count()\n",
    "        with_col_times_list.append(time.time() - start_time)\n",
    "\n",
    "        # Measure performance for select\n",
    "        start_time = time.time()\n",
    "        _ = cast_to_float_select(df).count()\n",
    "        select_times_list.append(time.time() - start_time)\n",
    "\n",
    "    return with_col_times_list, select_times_list\n",
    "\n",
    "# Example usage:\n",
    "\n"
   ]
  },
  {
   "cell_type": "code",
   "execution_count": 12,
   "id": "6ff93ecc-9940-4de4-a4de-2673b76f7977",
   "metadata": {},
   "outputs": [],
   "source": [
    "import matplotlib.pyplot as plt\n",
    "\n",
    "def plot_two_data_lists(data_list1, data_list2, x_labels=None, title=\"Data Plot\", xlabel=\"X-axis\", ylabel=\"Y-axis\", label1=\"Data 1\", label2=\"Data 2\"):\n",
    "    \"\"\"\n",
    "    Plots two data lists on the same axis with custom x-axis labels.\n",
    "\n",
    "    Parameters:\n",
    "    - data_list1: The first list of numerical values to plot.\n",
    "    - data_list2: The second list of numerical values to plot.\n",
    "    - x_labels: A list of labels for the x-axis. If None, the x-axis will be labeled with indices.\n",
    "    - title: The title of the plot (default is \"Data Plot\").\n",
    "    - xlabel: The label for the x-axis (default is \"X-axis\").\n",
    "    - ylabel: The label for the y-axis (default is \"Y-axis\").\n",
    "    - label1: The label for the first data list (default is \"Data 1\").\n",
    "    - label2: The label for the second data list (default is \"Data 2\").\n",
    "    \"\"\"\n",
    "    plt.figure(figsize=(10, 5))\n",
    "    \n",
    "    # Plot the first data list\n",
    "    plt.plot(data_list1, marker='o', label=label1)\n",
    "    \n",
    "    # Plot the second data list\n",
    "    plt.plot(data_list2, marker='s', label=label2)\n",
    "    \n",
    "    if x_labels:\n",
    "        plt.xticks(ticks=range(len(x_labels)), labels=x_labels)\n",
    "    \n",
    "    plt.title(title)\n",
    "    plt.xlabel(xlabel)\n",
    "    plt.ylabel(ylabel)\n",
    "    plt.grid(True)\n",
    "    plt.legend()  # Add a legend to differentiate between the two data sets\n",
    "    plt.show()\n"
   ]
  },
  {
   "cell_type": "code",
   "execution_count": 15,
   "id": "410ce77e-6840-470e-b9cf-ec7a1954dadf",
   "metadata": {},
   "outputs": [
    {
     "name": "stderr",
     "output_type": "stream",
     "text": [
      "24/09/14 14:24:15 WARN SparkStringUtils: Truncated the string representation of a plan since it was too large. This behavior can be adjusted by setting 'spark.sql.debug.maxToStringFields'.\n",
      "                                                                                \r"
     ]
    },
    {
     "name": "stdout",
     "output_type": "stream",
     "text": [
      "CPU times: user 4.61 s, sys: 2.73 s, total: 7.34 s\n",
      "Wall time: 24min 59s\n"
     ]
    }
   ],
   "source": [
    "%%time\n",
    "col_num_list = [1, 5, 10, 50, 100, 250, 500, 750, 100]\n",
    "with_col_times, select_times = compare_withColumn_and_select_performance(\n",
    "    num_rows=500,\n",
    "    col_num_list = col_num_list\n",
    ")"
   ]
  },
  {
   "cell_type": "code",
   "execution_count": 16,
   "id": "46915c68-59a4-4a6a-904b-106eff37b9a0",
   "metadata": {},
   "outputs": [
    {
     "data": {
      "image/png": "[encoded data removed]",
      "text/plain": [
       "<Figure size 1000x500 with 1 Axes>"
      ]
     },
     "metadata": {},
     "output_type": "display_data"
    }
   ],
   "source": [
    "plot_two_data_lists(\n",
    "    with_col_times, \n",
    "    select_times, \n",
    "    title=\"Comparison Plot\", \n",
    "    xlabel=\"Number of Columns\", \n",
    "    x_labels=col_num_list,\n",
    "    ylabel=\"time(s)\", \n",
    "    label1=\"withColumn\", \n",
    "    label2=\"select\")"
   ]
  },
  {
   "cell_type": "code",
   "execution_count": 11,
   "id": "562862d2-37f2-4e56-ac08-112ea3bd5435",
   "metadata": {},
   "outputs": [
    {
     "name": "stdout",
     "output_type": "stream",
     "text": [
      "Schemas are identical\n"
     ]
    }
   ],
   "source": [
    "if with_col.schema == with_select.schema:\n",
    "    print(\"Schemas are identical\")\n",
    "else:\n",
    "    print(\"Schemas differ\")"
   ]
  },
  {
   "cell_type": "code",
   "execution_count": 4,
   "id": "ca345c47-e01b-4818-a556-1525b5be154c",
   "metadata": {},
   "outputs": [],
   "source": [
    "df1 = create_dataframe(5,10)\n",
    "df2 = create_dataframe(5,10)"
   ]
  },
  {
   "cell_type": "code",
   "execution_count": 33,
   "id": "238f6e1c-ebee-4c5b-a844-033fc930890f",
   "metadata": {},
   "outputs": [],
   "source": [
    "df_list = [df1, df1, df2]"
   ]
  },
  {
   "cell_type": "code",
   "execution_count": 34,
   "id": "4f862c4d-44c6-44df-9942-d5784ff7c5cf",
   "metadata": {},
   "outputs": [
    {
     "data": {
      "text/plain": [
       "3"
      ]
     },
     "execution_count": 34,
     "metadata": {},
     "output_type": "execute_result"
    }
   ],
   "source": [
    "len(df_list)"
   ]
  },
  {
   "cell_type": "code",
   "execution_count": 35,
   "id": "b0b8f068-0752-4104-8cfe-f1e048d31702",
   "metadata": {},
   "outputs": [],
   "source": [
    "from functools import reduce"
   ]
  },
  {
   "cell_type": "code",
   "execution_count": 36,
   "id": "205ca3bd-e950-4bfb-931d-4ed9b468fe4e",
   "metadata": {},
   "outputs": [],
   "source": [
    "df_new = reduce(lambda df1, df2: df1.intersect(df2), df_list)"
   ]
  },
  {
   "cell_type": "code",
   "execution_count": 37,
   "id": "ad356c42-0102-42ab-af96-5710da483f59",
   "metadata": {},
   "outputs": [
    {
     "data": {
      "text/plain": [
       "0"
      ]
     },
     "execution_count": 37,
     "metadata": {},
     "output_type": "execute_result"
    }
   ],
   "source": [
    "df_new.count()"
   ]
  },
  {
   "cell_type": "code",
   "execution_count": 11,
   "id": "f555844c-4684-49f1-8c6a-482a98ef95fb",
   "metadata": {},
   "outputs": [
    {
     "data": {
      "text/plain": [
       "5"
      ]
     },
     "execution_count": 11,
     "metadata": {},
     "output_type": "execute_result"
    }
   ],
   "source": [
    "df1.count()"
   ]
  },
  {
   "cell_type": "code",
   "execution_count": 12,
   "id": "a9b85576-eb31-497f-b7a0-ee7dd4803deb",
   "metadata": {},
   "outputs": [
    {
     "data": {
      "text/plain": [
       "5"
      ]
     },
     "execution_count": 12,
     "metadata": {},
     "output_type": "execute_result"
    }
   ],
   "source": [
    "df2.count()"
   ]
  },
  {
   "cell_type": "code",
   "execution_count": null,
   "id": "140634f8-ffcc-4fe7-860e-2866fec2912b",
   "metadata": {},
   "outputs": [],
   "source": []
  }
 ],
 "metadata": {
  "kernelspec": {
   "display_name": "Python 3 (ipykernel)",
   "language": "python",
   "name": "python3"
  },
  "language_info": {
   "codemirror_mode": {
    "name": "ipython",
    "version": 3
   },
   "file_extension": ".py",
   "mimetype": "text/x-python",
   "name": "python",
   "nbconvert_exporter": "python",
   "pygments_lexer": "ipython3",
   "version": "3.11.9"
  }
 },
 "nbformat": 4,
 "nbformat_minor": 5
}
