{
 "cells": [
  {
   "cell_type": "markdown",
   "id": "335606a1-d1d1-403d-a608-d5c85bc39d18",
   "metadata": {},
   "source": [
    "# Optimizing Pyspark"
   ]
  },
  {
   "cell_type": "code",
   "execution_count": 13,
   "id": "78ae0e56-0e96-4707-a5c8-b4331962ba24",
   "metadata": {},
   "outputs": [],
   "source": [
    "import random\n",
    "from pyspark.sql import SparkSession\n",
    "from pyspark.sql.types import StructType, StructField, StringType, FloatType\n",
    "from pyspark.sql.functions import col\n",
    "from functools import reduce\n",
    "from pyspark.sql import DataFrame\n",
    "import pyspark.sql.functions as sf\n",
    "from pyspark.sql.window import Window\n",
    "import time\n",
    "import matplotlib.pyplot as plt"
   ]
  },
  {
   "cell_type": "markdown",
   "id": "a7c8a884-d61c-4cdc-a4b9-3848da7e33d7",
   "metadata": {},
   "source": [
    "Recently, I encountered a challenge with a PySpark job that was taking over 30 minutes to complete. In the world of data processing, time is money—literally—and such a long runtime was simply unacceptable for our needs.\n",
    "\n",
    "How did I know something was wrong? We were running the Spark job on AWS Glue, and based on my experience as an AWS data engineer, I knew that both PySpark and Glue were capable of much better performance, especially considering the volume of data we were processing.\n",
    "\n",
    "Determined to optimize the job, I set out to drastically reduce the runtime. After a series of targeted optimizations, I managed to cut it down from 30 minutes to 18, then to 6, and finally, to under 4 minutes. So, let’s start by understanding the problem in more detail, shall we?\n",
    "\n",
    " ## The Problem\n",
    "We are working with data from a Delta table that is divided into distinct groups, such as group_1 through group_5. These groups represent different community activities. A single community member can belong to multiple groups—someone might attend a particular school (group_1), play football (group_2), and participate in the local choir (group_3), among others.\n",
    "\n",
    "The challenge arises when we need to consolidate this data into a unified list for prize distribution. It’s essential that each community member appears only once in the final list, regardless of how many groups they are part of. This is critical to ensure fairness, avoid duplicate entries, and prevent the overrepresentation of any individual in the final data.\n",
    "\n",
    "While this example simplifies the problem, it captures the essence of the challenge I faced. Let's start by setting up pyspark"
   ]
  },
  {
   "cell_type": "code",
   "execution_count": 14,
   "id": "f44658e1-33f0-4e0b-9b88-786a08ebcbef",
   "metadata": {},
   "outputs": [],
   "source": [
    "# Replace with your cluster's master URL\n",
    "master_url = \"spark://spark-master:7077\"  # Or use the actual hostname or IP\n",
    "\n",
    "spark = SparkSession.builder \\\n",
    "    .appName(\"MyLocalSparkJob\") \\\n",
    "    .master(master_url) \\\n",
    "    .config(\"spark.executor.memory\", \"2g\") \\\n",
    "    .config(\"spark.executor.cores\", \"2\") \\\n",
    "    .config(\"spark.driver.memory\", \"2g\") \\\n",
    "    .getOrCreate()"
   ]
  },
  {
   "cell_type": "code",
   "execution_count": 15,
   "id": "be0b4872-0e8a-40fc-a73d-d4a6513e77bd",
   "metadata": {},
   "outputs": [],
   "source": [
    "from pyspark.sql import SparkSession\n",
    "from pyspark.sql import functions as sf\n",
    "\n",
    "def generate_test_data(spark, names,num_groups=3, overlap=True):\n",
    "    \"\"\"\n",
    "    Generate a list of DataFrames with potential overlapping 'UCIDs' in 'col0'.\n",
    "    \n",
    "    Parameters:\n",
    "        spark (SparkSession): The Spark session object.\n",
    "        num_cohorts (int): Number of cohorts (DataFrames) to generate.\n",
    "        overlap (bool): If True, allow overlap of UCIDs between cohorts.\n",
    "        \n",
    "    Returns:\n",
    "        List[DataFrame]: A list of PySpark DataFrames with 'UCID' overlap.\n",
    "    \"\"\"\n",
    "    df_list = []\n",
    "    \n",
    "    base_names = names\n",
    "    \n",
    "    for i in range(num_groups):\n",
    "        # Generate a subset of names with potential overlap\n",
    "        if overlap:\n",
    "            names = base_names[:i+2]  # Increasing overlap with each cohort\n",
    "        else:\n",
    "            ucids = [f'Person_{i}_{j}' for j in range(num_groups)]\n",
    "        \n",
    "        # Create a DataFrame for the group\n",
    "        group_df = spark.createDataFrame([(name, f'Group_{i}') for name in names], [\"names\", \"group_id\"])\n",
    "        df_list.append(group_df)\n",
    "    \n",
    "    return df_list\n",
    "\n",
    "\n",
    "def plot_two_data_lists(data_list1, data_list2, x_labels=None, title=\"Data Plot\", xlabel=\"X-axis\", ylabel=\"Y-axis\", label1=\"Data 1\", label2=\"Data 2\"):\n",
    "    \"\"\"\n",
    "    Plots two data lists on the same axis with custom x-axis labels.\n",
    "\n",
    "    Parameters:\n",
    "    - data_list1: The first list of numerical values to plot.\n",
    "    - data_list2: The second list of numerical values to plot.\n",
    "    - x_labels: A list of labels for the x-axis. If None, the x-axis will be labeled with indices.\n",
    "    - title: The title of the plot (default is \"Data Plot\").\n",
    "    - xlabel: The label for the x-axis (default is \"X-axis\").\n",
    "    - ylabel: The label for the y-axis (default is \"Y-axis\").\n",
    "    - label1: The label for the first data list (default is \"Data 1\").\n",
    "    - label2: The label for the second data list (default is \"Data 2\").\n",
    "    \"\"\"\n",
    "    plt.figure(figsize=(10, 5))\n",
    "    \n",
    "    # Plot the first data list\n",
    "    plt.plot(data_list1, marker='o', label=label1)\n",
    "    \n",
    "    # Plot the second data list\n",
    "    plt.plot(data_list2, marker='s', label=label2)\n",
    "    \n",
    "    if x_labels:\n",
    "        plt.xticks(ticks=range(len(x_labels)), labels=x_labels)\n",
    "    \n",
    "    plt.title(title)\n",
    "    plt.xlabel(xlabel)\n",
    "    plt.ylabel(ylabel)\n",
    "    plt.grid(True)\n",
    "    plt.legend()  # Add a legend to differentiate between the two data sets\n",
    "    plt.show()"
   ]
  },
  {
   "cell_type": "code",
   "execution_count": 16,
   "id": "8df8c447-60f4-4dd7-9e66-3e8e94353d10",
   "metadata": {},
   "outputs": [],
   "source": [
    "def use_loops(df):\n",
    "    distinct_names = set()\n",
    "    final_groups = []\n",
    "    for ind, group in enumerate(df):\n",
    "        names = set(group.select(sf.collect_set(\"names\")).first()[0])\n",
    "        keep_names = names - distinct_names\n",
    "        distinct_names.update(names)\n",
    "    \n",
    "        if ind ==0:\n",
    "            final_groups.append(group)\n",
    "        else:\n",
    "            if keep_names:\n",
    "                final_groups.append(\n",
    "                    group.join(\n",
    "                        sf.broadcast(\n",
    "                            spark.createDataFrame(\n",
    "                                [(names,) for names in keep_names],\n",
    "                                [\"names\"],\n",
    "                            ) \n",
    "                        ),\n",
    "                        on=\"names\"\n",
    "                    )\n",
    "                )\n",
    "    \n",
    "    return reduce(DataFrame.unionByName, final_groups)\n",
    "\n",
    "def use_dataframe_properties(df, num_groups):\n",
    "\n",
    "    group_ref = [\"Group_\"+str(i) for i in range(num_groups)]\n",
    "\n",
    "    mapping_dict = {col_id: idx for idx, col_id in enumerate(group_ref)}\n",
    "    \n",
    "    df_with_mapping = df.withColumn('actual_number', sf.create_map([sf.lit(x) for x in sum(mapping_dict.items(), ())])[sf.col('group_id')])\n",
    "    \n",
    "    \n",
    "    window_spec = Window.partitionBy(\"names\").orderBy(\"actual_number\")  # Define an appropriate ordering column\n",
    "    ranked_df = df_with_mapping.withColumn(\"rank\", sf.row_number().over(window_spec))\n",
    "    \n",
    "    return ranked_df.filter(sf.col(\"rank\") == 1)"
   ]
  },
  {
   "cell_type": "code",
   "execution_count": 20,
   "id": "78556ca7-0d44-46ef-99d2-3186f1e97171",
   "metadata": {},
   "outputs": [],
   "source": [
    "def compare_two_func(num_groups = [1, 10]):\n",
    "    \n",
    "    # Generate test data with overlapping names\n",
    "    use_loops_times = []\n",
    "    use_dataframe_propertie_times = []\n",
    "    for num in num_groups:\n",
    "        person_list = [\"Person_\"+str(i) for i in range(100)]\n",
    "        test_data = generate_test_data(spark,person_list,num_groups=num, overlap=True)\n",
    "        # Step 1: Union all DataFrames in df_list into a single DataFrame\n",
    "        unioned_df = reduce(DataFrame.unionByName, test_data)\n",
    "\n",
    "        # start_time = time.time()\n",
    "        # use_loops(test_data).count()\n",
    "        # use_loops_times.append(time.time()-start_time)\n",
    "\n",
    "        start_time = time.time()\n",
    "        use_dataframe_properties(unioned_df, num).count()\n",
    "        use_dataframe_propertie_times.append(time.time()-start_time)\n",
    "\n",
    "    return use_loops_times, use_dataframe_propertie_times"
   ]
  },
  {
   "cell_type": "code",
   "execution_count": 21,
   "id": "74fd23aa-734c-4ad7-bb29-ee578589a4c7",
   "metadata": {},
   "outputs": [
    {
     "name": "stderr",
     "output_type": "stream",
     "text": [
      "                                                                                \r"
     ]
    }
   ],
   "source": [
    "num_groups = [1, 10, 25, 50]\n",
    "use_loops_times, use_dataframe_propertie_times = compare_two_func(num_groups)"
   ]
  },
  {
   "cell_type": "code",
   "execution_count": 22,
   "id": "03046db5-709a-4a2f-a8d6-861fb7fe4646",
   "metadata": {
    "scrolled": true
   },
   "outputs": [
    {
     "data": {
      "image/png": "[encoded data removed]",
      "text/plain": [
       "<Figure size 1000x500 with 1 Axes>"
      ]
     },
     "metadata": {},
     "output_type": "display_data"
    }
   ],
   "source": [
    "plot_two_data_lists(\n",
    "    use_loops_times, \n",
    "    use_dataframe_propertie_times, \n",
    "    title=\"Comparison Plot\", \n",
    "    xlabel=\"Number of groups\", \n",
    "    x_labels=num_groups,\n",
    "    ylabel=\"time(s)\", \n",
    "    label1=\"for loops\", \n",
    "    label2=\"dataframe properties\")"
   ]
  },
  {
   "cell_type": "code",
   "execution_count": 30,
   "id": "c9cedb49-1f3e-4311-b861-9887da429895",
   "metadata": {},
   "outputs": [
    {
     "name": "stderr",
     "output_type": "stream",
     "text": [
      "[Stage 32:=================================================>      (35 + 5) / 40]\r"
     ]
    },
    {
     "name": "stdout",
     "output_type": "stream",
     "text": [
      "+-------+--------+\n",
      "|  names|group_id|\n",
      "+-------+--------+\n",
      "|  Alice| Group_0|\n",
      "|    Bob| Group_0|\n",
      "|Charlie| Group_1|\n",
      "|  David| Group_2|\n",
      "|    Eve| Group_3|\n",
      "|  James| Group_4|\n",
      "+-------+--------+\n",
      "\n"
     ]
    },
    {
     "name": "stderr",
     "output_type": "stream",
     "text": [
      "                                                                                \r"
     ]
    }
   ],
   "source": [
    "distinct_group_df.drop(\"actual_number\", \"rank\").show()"
   ]
  },
  {
   "cell_type": "code",
   "execution_count": 36,
   "id": "d823db09-fcb2-4dd0-97c6-6a0bec340439",
   "metadata": {},
   "outputs": [
    {
     "name": "stderr",
     "output_type": "stream",
     "text": [
      "[Stage 38:===================================================>    (37 + 3) / 40]\r"
     ]
    },
    {
     "name": "stdout",
     "output_type": "stream",
     "text": [
      "+-------+--------+\n",
      "|  names|group_id|\n",
      "+-------+--------+\n",
      "|  Alice| Group_0|\n",
      "|    Bob| Group_1|\n",
      "|Charlie| Group_1|\n",
      "|  David| Group_4|\n",
      "|    Eve| Group_3|\n",
      "|  James| Group_4|\n",
      "+-------+--------+\n",
      "\n"
     ]
    },
    {
     "name": "stderr",
     "output_type": "stream",
     "text": [
      "                                                                                \r"
     ]
    }
   ],
   "source": [
    "unioned_df.drop_duplicates([\"names\"]).show()"
   ]
  },
  {
   "cell_type": "code",
   "execution_count": 6,
   "id": "0bd6d476-f71c-44b4-a38a-b369843fd42f",
   "metadata": {},
   "outputs": [],
   "source": [
    "person_list = [\"Person_\"+str(i) for i in range(10)]\n",
    "test_data = generate_test_data(spark,person_list,num_groups=5, overlap=True)\n",
    "unioned_df = reduce(DataFrame.unionByName, test_data)"
   ]
  },
  {
   "cell_type": "code",
   "execution_count": 8,
   "id": "c82ba8fc-557e-4d15-a0c4-13791a8f234f",
   "metadata": {},
   "outputs": [
    {
     "data": {
      "text/plain": [
       "False"
      ]
     },
     "execution_count": 8,
     "metadata": {},
     "output_type": "execute_result"
    }
   ],
   "source": [
    "unioned_df.isEmpty()"
   ]
  },
  {
   "cell_type": "code",
   "execution_count": 10,
   "id": "339aa3ce-6ff0-4cec-ac68-6408e034ddcb",
   "metadata": {},
   "outputs": [
    {
     "name": "stdout",
     "output_type": "stream",
     "text": [
      "root\n",
      " |-- names: string (nullable = true)\n",
      " |-- group_id: string (nullable = true)\n",
      "\n"
     ]
    }
   ],
   "source": [
    "unioned_df.printSchema()"
   ]
  },
  {
   "cell_type": "code",
   "execution_count": 13,
   "id": "163fefd9-27b6-4eed-a831-02e1fb3f7a07",
   "metadata": {},
   "outputs": [],
   "source": [
    "df  = use_dataframe_properties(unioned_df, 5)"
   ]
  },
  {
   "cell_type": "code",
   "execution_count": 14,
   "id": "3112c92f-5a73-4ca5-ae90-341277ac2efd",
   "metadata": {},
   "outputs": [
    {
     "name": "stderr",
     "output_type": "stream",
     "text": [
      "[Stage 13:==============================================>         (33 + 7) / 40]\r"
     ]
    },
    {
     "name": "stdout",
     "output_type": "stream",
     "text": [
      "+--------+--------+-------------+----+\n",
      "|   names|group_id|actual_number|rank|\n",
      "+--------+--------+-------------+----+\n",
      "|Person_0| Group_0|            0|   1|\n",
      "|Person_1| Group_0|            0|   1|\n",
      "|Person_2| Group_1|            1|   1|\n",
      "|Person_3| Group_2|            2|   1|\n",
      "|Person_4| Group_3|            3|   1|\n",
      "|Person_5| Group_4|            4|   1|\n",
      "+--------+--------+-------------+----+\n",
      "\n"
     ]
    },
    {
     "name": "stderr",
     "output_type": "stream",
     "text": [
      "                                                                                \r"
     ]
    }
   ],
   "source": [
    "df.show()"
   ]
  },
  {
   "cell_type": "code",
   "execution_count": 18,
   "id": "36f58dbb-c731-4321-a819-37da5d7d8fec",
   "metadata": {},
   "outputs": [
    {
     "name": "stderr",
     "output_type": "stream",
     "text": [
      "                                                                                \r"
     ]
    }
   ],
   "source": [
    "results = df.groupBy(\"actual_number\").agg(sf.count(\"*\").alias(\"count\")).orderBy(\"actual_number\").select('count').collect()"
   ]
  },
  {
   "cell_type": "code",
   "execution_count": 20,
   "id": "ae5c80df-2f15-410e-8da7-4f83945db086",
   "metadata": {},
   "outputs": [],
   "source": [
    "count_list = [row[\"count\"] for row in results]"
   ]
  },
  {
   "cell_type": "code",
   "execution_count": 21,
   "id": "9b3d08f2-80dd-474b-b665-b3bcb0f22563",
   "metadata": {},
   "outputs": [
    {
     "data": {
      "text/plain": [
       "[2, 1, 1, 1, 1]"
      ]
     },
     "execution_count": 21,
     "metadata": {},
     "output_type": "execute_result"
    }
   ],
   "source": [
    "count_list"
   ]
  },
  {
   "cell_type": "code",
   "execution_count": 23,
   "id": "daf720fd-e09c-44e5-bf7f-9441c536b1b0",
   "metadata": {},
   "outputs": [],
   "source": [
    "person_list = [\"Person_\"+str(i) for i in range(100)]\n",
    "test_data = generate_test_data(spark,person_list,num_groups=100, overlap=True)\n",
    "unioned_df = reduce(DataFrame.unionByName, test_data)"
   ]
  },
  {
   "cell_type": "code",
   "execution_count": 25,
   "id": "df926379-0b70-44ab-98ff-2e2f1d086b74",
   "metadata": {},
   "outputs": [
    {
     "name": "stdout",
     "output_type": "stream",
     "text": [
      "+--------+--------+\n",
      "|   names|group_id|\n",
      "+--------+--------+\n",
      "|Person_0| Group_0|\n",
      "|Person_1| Group_0|\n",
      "|Person_0| Group_1|\n",
      "|Person_1| Group_1|\n",
      "|Person_2| Group_1|\n",
      "|Person_0| Group_2|\n",
      "|Person_1| Group_2|\n",
      "|Person_2| Group_2|\n",
      "|Person_3| Group_2|\n",
      "|Person_0| Group_3|\n",
      "+--------+--------+\n",
      "only showing top 10 rows\n",
      "\n"
     ]
    }
   ],
   "source": [
    "unioned_df.show(10)"
   ]
  },
  {
   "cell_type": "code",
   "execution_count": 31,
   "id": "c82fba07-097e-46e1-b297-862a442b646c",
   "metadata": {},
   "outputs": [
    {
     "name": "stdout",
     "output_type": "stream",
     "text": [
      "+--------+--------+\n",
      "|   names|group_id|\n",
      "+--------+--------+\n",
      "|Person_0| Group_0|\n",
      "|Person_1| Group_0|\n",
      "|Person_0| Group_1|\n",
      "|Person_1| Group_1|\n",
      "|Person_2| Group_1|\n",
      "+--------+--------+\n",
      "only showing top 5 rows\n",
      "\n",
      "CPU times: user 5.22 ms, sys: 2.55 ms, total: 7.77 ms\n",
      "Wall time: 1.01 s\n"
     ]
    }
   ],
   "source": [
    "%%time\n",
    "unioned_df.select(\n",
    "    \"*\"\n",
    ").show(5)"
   ]
  },
  {
   "cell_type": "code",
   "execution_count": 32,
   "id": "21a27c9f-3ff3-4868-9498-725cbc3e78d6",
   "metadata": {},
   "outputs": [
    {
     "name": "stdout",
     "output_type": "stream",
     "text": [
      "+--------+--------+\n",
      "|   names|group_id|\n",
      "+--------+--------+\n",
      "|Person_0| Group_0|\n",
      "|Person_1| Group_0|\n",
      "|Person_0| Group_1|\n",
      "|Person_1| Group_1|\n",
      "|Person_2| Group_1|\n",
      "+--------+--------+\n",
      "only showing top 5 rows\n",
      "\n",
      "CPU times: user 5.24 ms, sys: 2.57 ms, total: 7.8 ms\n",
      "Wall time: 941 ms\n"
     ]
    }
   ],
   "source": [
    "%%time\n",
    "unioned_df.select(\n",
    "    *unioned_df\n",
    ").show(5)"
   ]
  },
  {
   "cell_type": "code",
   "execution_count": 28,
   "id": "55220fcd-32ef-430b-aa26-a25c4e722c6d",
   "metadata": {},
   "outputs": [],
   "source": [
    "# %%time\n",
    "# unioned_df.select(\"names\").distinct().rdd.flatMap(lambda x: x).collect()"
   ]
  },
  {
   "cell_type": "code",
   "execution_count": 29,
   "id": "1d311580-ca63-4c33-a4eb-5179099bc4ee",
   "metadata": {},
   "outputs": [],
   "source": [
    "# %%time\n",
    "# list(set(unioned_df.select(sf.collect_set(\"names\")).first()[0]))"
   ]
  },
  {
   "cell_type": "code",
   "execution_count": 30,
   "id": "a006dc75-49f5-4d94-af97-cab529fddd3a",
   "metadata": {},
   "outputs": [],
   "source": [
    "# %%time\n",
    "# [row[\"names\"] for row in unioned_df.select(\"names\").distinct().collect()]"
   ]
  },
  {
   "cell_type": "code",
   "execution_count": null,
   "id": "b64daec4-7f27-4806-a5b7-463e7ca069b9",
   "metadata": {},
   "outputs": [],
   "source": []
  }
 ],
 "metadata": {
  "kernelspec": {
   "display_name": "Python 3 (ipykernel)",
   "language": "python",
   "name": "python3"
  }
 },
 "nbformat": 4,
 "nbformat_minor": 5
}
